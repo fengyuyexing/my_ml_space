{
 "cells": [
  {
   "cell_type": "markdown",
   "id": "d75735ef-aa39-41cb-af3a-849ecbcf487e",
   "metadata": {},
   "source": [
    "# [使用 LSTM 进行多变量时间序列预测的保姆级教程](https://avoid.overfit.cn/post/1a36216705f2441b80fca567ea61e365)"
   ]
  },
  {
   "cell_type": "code",
   "execution_count": 1,
   "id": "27e86681",
   "metadata": {},
   "outputs": [],
   "source": [
    "import numpy as np\n",
    "from tensorflow.keras.models import Sequential\n",
    "from tensorflow.keras.layers import LSTM\n",
    "from tensorflow.keras.layers import Dense, Dropout\n",
    "import pandas as pd\n",
    "from matplotlib import pyplot as plt\n",
    "from sklearn.preprocessing import MinMaxScaler\n",
    "import seaborn as sns"
   ]
  },
  {
   "cell_type": "code",
   "execution_count": 48,
   "id": "d4370676-7d46-4cff-a0dc-0fd3d9ebc3e4",
   "metadata": {},
   "outputs": [],
   "source": [
    "# 设置单元格多个输出\n",
    "from IPython.core.interactiveshell import InteractiveShell\n",
    "InteractiveShell.ast_node_interactivity = \"all\""
   ]
  },
  {
   "cell_type": "markdown",
   "id": "fe29003e-9b55-4bff-9323-6584db452fb4",
   "metadata": {},
   "source": [
    "## 加载数据，并检查输出\n",
    "* csv文件中包含了谷歌从2001-01-25到2021-09-29的股票数据，数据是按照天数频率的。\n",
    "\n",
    "[如果您愿意，您可以将频率转换为“B”[工作日]或“D”，因为我们不会使用日期，我只是保持它的现状。]\n",
    "\n",
    "这里我们试图预测“Open”列的未来值，因此“Open”是这里的目标列"
   ]
  },
  {
   "cell_type": "code",
   "execution_count": 45,
   "id": "59a416cd",
   "metadata": {},
   "outputs": [
    {
     "data": {
      "text/plain": [
       "(5203, 5)"
      ]
     },
     "execution_count": 45,
     "metadata": {},
     "output_type": "execute_result"
    }
   ],
   "source": [
    "df=pd.read_csv(\"train.csv\",parse_dates=[\"Date\"],index_col=[0])\n",
    "df.shape"
   ]
  },
  {
   "cell_type": "code",
   "execution_count": 47,
   "id": "750dae9a",
   "metadata": {},
   "outputs": [
    {
     "data": {
      "text/html": [
       "<div>\n",
       "<style scoped>\n",
       "    .dataframe tbody tr th:only-of-type {\n",
       "        vertical-align: middle;\n",
       "    }\n",
       "\n",
       "    .dataframe tbody tr th {\n",
       "        vertical-align: top;\n",
       "    }\n",
       "\n",
       "    .dataframe thead th {\n",
       "        text-align: right;\n",
       "    }\n",
       "</style>\n",
       "<table border=\"1\" class=\"dataframe\">\n",
       "  <thead>\n",
       "    <tr style=\"text-align: right;\">\n",
       "      <th></th>\n",
       "      <th>Open</th>\n",
       "      <th>High</th>\n",
       "      <th>Low</th>\n",
       "      <th>Close</th>\n",
       "      <th>Adj Close</th>\n",
       "    </tr>\n",
       "    <tr>\n",
       "      <th>Date</th>\n",
       "      <th></th>\n",
       "      <th></th>\n",
       "      <th></th>\n",
       "      <th></th>\n",
       "      <th></th>\n",
       "    </tr>\n",
       "  </thead>\n",
       "  <tbody>\n",
       "    <tr>\n",
       "      <th>2001-01-25</th>\n",
       "      <td>356.730774</td>\n",
       "      <td>362.980774</td>\n",
       "      <td>352.403839</td>\n",
       "      <td>353.365387</td>\n",
       "      <td>197.122452</td>\n",
       "    </tr>\n",
       "    <tr>\n",
       "      <th>2001-01-26</th>\n",
       "      <td>357.211548</td>\n",
       "      <td>360.096161</td>\n",
       "      <td>342.788452</td>\n",
       "      <td>343.269226</td>\n",
       "      <td>191.490234</td>\n",
       "    </tr>\n",
       "    <tr>\n",
       "      <th>2001-01-29</th>\n",
       "      <td>345.153839</td>\n",
       "      <td>355.769226</td>\n",
       "      <td>338.461548</td>\n",
       "      <td>341.384613</td>\n",
       "      <td>190.439011</td>\n",
       "    </tr>\n",
       "    <tr>\n",
       "      <th>2001-01-30</th>\n",
       "      <td>344.307678</td>\n",
       "      <td>355.923065</td>\n",
       "      <td>341.692322</td>\n",
       "      <td>355.769226</td>\n",
       "      <td>198.463318</td>\n",
       "    </tr>\n",
       "    <tr>\n",
       "      <th>2001-01-31</th>\n",
       "      <td>359.615387</td>\n",
       "      <td>361.153839</td>\n",
       "      <td>350.461548</td>\n",
       "      <td>353.692322</td>\n",
       "      <td>197.304749</td>\n",
       "    </tr>\n",
       "  </tbody>\n",
       "</table>\n",
       "</div>"
      ],
      "text/plain": [
       "                  Open        High         Low       Close   Adj Close\n",
       "Date                                                                  \n",
       "2001-01-25  356.730774  362.980774  352.403839  353.365387  197.122452\n",
       "2001-01-26  357.211548  360.096161  342.788452  343.269226  191.490234\n",
       "2001-01-29  345.153839  355.769226  338.461548  341.384613  190.439011\n",
       "2001-01-30  344.307678  355.923065  341.692322  355.769226  198.463318\n",
       "2001-01-31  359.615387  361.153839  350.461548  353.692322  197.304749"
      ]
     },
     "execution_count": 47,
     "metadata": {},
     "output_type": "execute_result"
    },
    {
     "data": {
      "text/html": [
       "<div>\n",
       "<style scoped>\n",
       "    .dataframe tbody tr th:only-of-type {\n",
       "        vertical-align: middle;\n",
       "    }\n",
       "\n",
       "    .dataframe tbody tr th {\n",
       "        vertical-align: top;\n",
       "    }\n",
       "\n",
       "    .dataframe thead th {\n",
       "        text-align: right;\n",
       "    }\n",
       "</style>\n",
       "<table border=\"1\" class=\"dataframe\">\n",
       "  <thead>\n",
       "    <tr style=\"text-align: right;\">\n",
       "      <th></th>\n",
       "      <th>Open</th>\n",
       "      <th>High</th>\n",
       "      <th>Low</th>\n",
       "      <th>Close</th>\n",
       "      <th>Adj Close</th>\n",
       "    </tr>\n",
       "    <tr>\n",
       "      <th>Date</th>\n",
       "      <th></th>\n",
       "      <th></th>\n",
       "      <th></th>\n",
       "      <th></th>\n",
       "      <th></th>\n",
       "    </tr>\n",
       "  </thead>\n",
       "  <tbody>\n",
       "    <tr>\n",
       "      <th>2021-09-23</th>\n",
       "      <td>99.529999</td>\n",
       "      <td>104.080002</td>\n",
       "      <td>99.519997</td>\n",
       "      <td>102.959999</td>\n",
       "      <td>102.789993</td>\n",
       "    </tr>\n",
       "    <tr>\n",
       "      <th>2021-09-24</th>\n",
       "      <td>102.660004</td>\n",
       "      <td>104.199997</td>\n",
       "      <td>102.599998</td>\n",
       "      <td>103.800003</td>\n",
       "      <td>103.709198</td>\n",
       "    </tr>\n",
       "    <tr>\n",
       "      <th>2021-09-27</th>\n",
       "      <td>104.550003</td>\n",
       "      <td>106.330002</td>\n",
       "      <td>104.389999</td>\n",
       "      <td>105.349998</td>\n",
       "      <td>105.257835</td>\n",
       "    </tr>\n",
       "    <tr>\n",
       "      <th>2021-09-28</th>\n",
       "      <td>105.290001</td>\n",
       "      <td>106.750000</td>\n",
       "      <td>104.730003</td>\n",
       "      <td>105.730003</td>\n",
       "      <td>105.637512</td>\n",
       "    </tr>\n",
       "    <tr>\n",
       "      <th>2021-09-29</th>\n",
       "      <td>106.000000</td>\n",
       "      <td>107.000000</td>\n",
       "      <td>105.309998</td>\n",
       "      <td>106.279999</td>\n",
       "      <td>106.187027</td>\n",
       "    </tr>\n",
       "  </tbody>\n",
       "</table>\n",
       "</div>"
      ],
      "text/plain": [
       "                  Open        High         Low       Close   Adj Close\n",
       "Date                                                                  \n",
       "2021-09-23   99.529999  104.080002   99.519997  102.959999  102.789993\n",
       "2021-09-24  102.660004  104.199997  102.599998  103.800003  103.709198\n",
       "2021-09-27  104.550003  106.330002  104.389999  105.349998  105.257835\n",
       "2021-09-28  105.290001  106.750000  104.730003  105.730003  105.637512\n",
       "2021-09-29  106.000000  107.000000  105.309998  106.279999  106.187027"
      ]
     },
     "execution_count": 47,
     "metadata": {},
     "output_type": "execute_result"
    }
   ],
   "source": [
    "df.head()\n",
    "df.tail()"
   ]
  },
  {
   "cell_type": "markdown",
   "id": "a17d09f9-e753-4a52-af7e-910bb1d36eab",
   "metadata": {},
   "source": [
    "## 进行训练、测试集拆分"
   ]
  },
  {
   "cell_type": "code",
   "execution_count": 40,
   "id": "9f685196",
   "metadata": {},
   "outputs": [
    {
     "data": {
      "text/plain": [
       "1041"
      ]
     },
     "execution_count": 40,
     "metadata": {},
     "output_type": "execute_result"
    }
   ],
   "source": [
    "test_split=round(len(df)*0.20)\n",
    "test_split"
   ]
  },
  {
   "cell_type": "code",
   "execution_count": 49,
   "id": "6815e6cf",
   "metadata": {},
   "outputs": [
    {
     "data": {
      "text/plain": [
       "(4162, 5)"
      ]
     },
     "execution_count": 49,
     "metadata": {},
     "output_type": "execute_result"
    },
    {
     "data": {
      "text/plain": [
       "(1041, 5)"
      ]
     },
     "execution_count": 49,
     "metadata": {},
     "output_type": "execute_result"
    }
   ],
   "source": [
    "df_for_training=df[:-test_split]\n",
    "df_for_testing=df[-test_split:]\n",
    "df_for_training.shape\n",
    "df_for_testing.shape"
   ]
  },
  {
   "cell_type": "markdown",
   "id": "5c140c92-3371-4008-b649-478f8c28b667",
   "metadata": {},
   "source": [
    "## 数据归一化\n",
    "* MinMaxScaler缩放数据"
   ]
  },
  {
   "cell_type": "code",
   "execution_count": 50,
   "id": "4a86012c",
   "metadata": {},
   "outputs": [],
   "source": [
    "scaler = MinMaxScaler(feature_range=(0,1))\n",
    "df_for_training_scaled = scaler.fit_transform(df_for_training)\n",
    "df_for_testing_scaled = scaler.transform(df_for_testing)"
   ]
  },
  {
   "cell_type": "code",
   "execution_count": 51,
   "id": "d33a6b6e",
   "metadata": {},
   "outputs": [
    {
     "data": {
      "text/plain": [
       "array([[0.85398707, 0.86281807, 0.85292546, 0.8403402 , 0.82180889],\n",
       "       [0.85533406, 0.85473269, 0.82623316, 0.8122593 , 0.79289309],\n",
       "       [0.82155169, 0.84260459, 0.81422168, 0.80701755, 0.78749611],\n",
       "       ...,\n",
       "       [0.40689652, 0.40362224, 0.41960282, 0.40436458, 0.7632948 ],\n",
       "       [0.40517242, 0.39995691, 0.41832161, 0.4075738 , 0.76889077],\n",
       "       [0.40862067, 0.39974127, 0.41426436, 0.39880189, 0.75359571]])"
      ]
     },
     "execution_count": 51,
     "metadata": {},
     "output_type": "execute_result"
    }
   ],
   "source": [
    "df_for_training_scaled"
   ]
  },
  {
   "cell_type": "code",
   "execution_count": 52,
   "id": "03b668b1",
   "metadata": {},
   "outputs": [
    {
     "data": {
      "text/plain": [
       "(4162, 5)"
      ]
     },
     "execution_count": 52,
     "metadata": {},
     "output_type": "execute_result"
    },
    {
     "data": {
      "text/plain": [
       "(1041, 5)"
      ]
     },
     "execution_count": 52,
     "metadata": {},
     "output_type": "execute_result"
    }
   ],
   "source": [
    "df_for_training_scaled.shape\n",
    "df_for_testing_scaled.shape"
   ]
  },
  {
   "cell_type": "markdown",
   "id": "9cc12ad5-59c9-4d61-98cb-58bc4ad69d0f",
   "metadata": {},
   "source": [
    "## 将数据拆分为X和Y"
   ]
  },
  {
   "cell_type": "code",
   "execution_count": 53,
   "id": "b6a58026",
   "metadata": {},
   "outputs": [],
   "source": [
    "def createXY(dataset,n_past):\n",
    "    dataX = []\n",
    "    dataY = []\n",
    "    for i in range(n_past, len(dataset)):\n",
    "            dataX.append(dataset[i - n_past:i, 0:dataset.shape[1]])\n",
    "            dataY.append(dataset[i,0])\n",
    "    return np.array(dataX),np.array(dataY)        "
   ]
  },
  {
   "cell_type": "markdown",
   "id": "5416c493-ac69-45c6-bd9c-cb3d2092afd3",
   "metadata": {},
   "source": [
    "让我们看看上面的代码中做了什么：\n",
    "\n",
    "N_past是我们在预测下一个目标值时将在过去查看的步骤数。\n",
    "\n",
    "这里使用30，意味着将使用过去的30个值(包括目标列在内的所有特性)来预测第31个目标值。\n",
    "\n",
    "因此，在trainX中我们会有所有的特征值，而在trainY中我们只有目标值。\n",
    "\n",
    "让我们分解for循环的每一部分\n",
    "\n",
    "对于训练，dataset = df_for_training_scaled, n_past=30\n",
    "\n",
    "当i= 30:\n",
    "\n",
    "data_X.addend (df_for_training_scaled[i - n_past:i, 0:df_for_training.shape[1]])\n",
    "\n",
    "从n_past开始的范围是30，所以第一次数据范围将是-[30 - 30,30,0:5] 相当于 [0:30,0:5]\n",
    "\n",
    "因此在dataX列表中，df_for_training_scaled[0:30,0:5]数组将第一次出现。\n",
    "\n",
    "现在, dataY.append(df_for_training_scaled[i,0])\n",
    "\n",
    "i = 30，所以它将只取第30行开始的open(因为在预测中，我们只需要open列，所以列范围仅为0，表示open列)。\n",
    "\n",
    "第一次在dataY列表中存储df_for_training_scaled[30,0]值。\n",
    "\n",
    "所以包含5列的前30行存储在dataX中，只有open列的第31行存储在dataY中。然后我们将dataX和dataY列表转换为数组，它们以数组格式在LSTM中进行训练。"
   ]
  },
  {
   "cell_type": "code",
   "execution_count": 54,
   "id": "18b62d65",
   "metadata": {},
   "outputs": [
    {
     "data": {
      "text/plain": [
       "(4132, 30, 5)"
      ]
     },
     "execution_count": 54,
     "metadata": {},
     "output_type": "execute_result"
    },
    {
     "data": {
      "text/plain": [
       "(4132,)"
      ]
     },
     "execution_count": 54,
     "metadata": {},
     "output_type": "execute_result"
    }
   ],
   "source": [
    "trainX,trainY=createXY(df_for_training_scaled,30)\n",
    "trainX.shape\n",
    "trainY.shape"
   ]
  },
  {
   "cell_type": "markdown",
   "id": "bb7f05e3-3368-4cf1-bc84-ae53650c0f6e",
   "metadata": {},
   "source": [
    "4132 是 trainX 中可用的数组总数，每个数组共有 30 行和 5 列， 在每个数组的 trainY 中，我们都有下一个目标值来训练模型。"
   ]
  },
  {
   "cell_type": "code",
   "execution_count": 55,
   "id": "2795bf2a",
   "metadata": {},
   "outputs": [
    {
     "data": {
      "text/plain": [
       "array([[0.85398707, 0.86281807, 0.85292546, 0.8403402 , 0.82180889],\n",
       "       [0.85533406, 0.85473269, 0.82623316, 0.8122593 , 0.79289309],\n",
       "       [0.82155169, 0.84260459, 0.81422168, 0.80701755, 0.78749611],\n",
       "       [0.81918098, 0.84303579, 0.82319031, 0.8470261 , 0.8286929 ],\n",
       "       [0.86206895, 0.85769729, 0.84753366, 0.84124952, 0.8227448 ],\n",
       "       [0.85668106, 0.85295391, 0.85479397, 0.84659822, 0.82825271],\n",
       "       [0.85129307, 0.85661925, 0.85372629, 0.84766796, 0.82935384],\n",
       "       [0.8540948 , 0.88249248, 0.85799703, 0.88125807, 0.86394198],\n",
       "       [0.88577588, 0.88227684, 0.88255396, 0.87590928, 0.85843431],\n",
       "       [0.88189657, 0.87602422, 0.87016871, 0.86200256, 0.84411479],\n",
       "       [0.88362063, 0.88357053, 0.87892376, 0.86606763, 0.84829995],\n",
       "       [0.87047413, 0.86200956, 0.84390347, 0.8344031 , 0.81569511],\n",
       "       [0.83857758, 0.87645542, 0.84966903, 0.87398378, 0.85645156],\n",
       "       [0.88168102, 0.88012075, 0.88105913, 0.86649551, 0.84874037],\n",
       "       [0.87090514, 0.86287196, 0.85949177, 0.84724008, 0.82891342],\n",
       "       [0.85237065, 0.88249248, 0.8601324 , 0.88403941, 0.86680588],\n",
       "       [0.85668106, 0.86589053, 0.86248134, 0.8630723 , 0.84521599],\n",
       "       [0.87176726, 0.8870203 , 0.88191333, 0.87783486, 0.86041721],\n",
       "       [0.88254305, 0.89003888, 0.88298101, 0.86949083, 0.85182511],\n",
       "       [0.875     , 0.86955587, 0.85821051, 0.86521178, 0.84741896],\n",
       "       [0.85775864, 0.85877534, 0.83600253, 0.84552848, 0.82715127],\n",
       "       [0.86745685, 0.88055195, 0.86120008, 0.88403941, 0.86680588],\n",
       "       [0.87780172, 0.88033639, 0.87828313, 0.88446729, 0.86724607],\n",
       "       [0.88900862, 0.88551106, 0.84838778, 0.85237489, 0.83420073],\n",
       "       [0.83512929, 0.83872361, 0.83365367, 0.83975181, 0.82120263],\n",
       "       [0.83189656, 0.82988361, 0.82532568, 0.81108261, 0.79168158],\n",
       "       [0.81896551, 0.82341526, 0.82703399, 0.82199401, 0.80649534],\n",
       "       [0.85129307, 0.85015098, 0.84240872, 0.8292683 , 0.81401255],\n",
       "       [0.83448273, 0.84282023, 0.84561178, 0.84124952, 0.82639405],\n",
       "       [0.84913791, 0.84497632, 0.83557547, 0.83889605, 0.82396218]])"
      ]
     },
     "execution_count": 55,
     "metadata": {},
     "output_type": "execute_result"
    },
    {
     "data": {
      "text/plain": [
       "0.8297413960482309"
      ]
     },
     "execution_count": 55,
     "metadata": {},
     "output_type": "execute_result"
    }
   ],
   "source": [
    "trainX[0]\n",
    "trainY[0]"
   ]
  },
  {
   "cell_type": "code",
   "execution_count": 56,
   "id": "1cbe552e-099d-4ee6-af11-5722b23a7f9f",
   "metadata": {},
   "outputs": [
    {
     "data": {
      "text/plain": [
       "array([[0.85533406, 0.85473269, 0.82623316, 0.8122593 , 0.79289309],\n",
       "       [0.82155169, 0.84260459, 0.81422168, 0.80701755, 0.78749611],\n",
       "       [0.81918098, 0.84303579, 0.82319031, 0.8470261 , 0.8286929 ],\n",
       "       [0.86206895, 0.85769729, 0.84753366, 0.84124952, 0.8227448 ],\n",
       "       [0.85668106, 0.85295391, 0.85479397, 0.84659822, 0.82825271],\n",
       "       [0.85129307, 0.85661925, 0.85372629, 0.84766796, 0.82935384],\n",
       "       [0.8540948 , 0.88249248, 0.85799703, 0.88125807, 0.86394198],\n",
       "       [0.88577588, 0.88227684, 0.88255396, 0.87590928, 0.85843431],\n",
       "       [0.88189657, 0.87602422, 0.87016871, 0.86200256, 0.84411479],\n",
       "       [0.88362063, 0.88357053, 0.87892376, 0.86606763, 0.84829995],\n",
       "       [0.87047413, 0.86200956, 0.84390347, 0.8344031 , 0.81569511],\n",
       "       [0.83857758, 0.87645542, 0.84966903, 0.87398378, 0.85645156],\n",
       "       [0.88168102, 0.88012075, 0.88105913, 0.86649551, 0.84874037],\n",
       "       [0.87090514, 0.86287196, 0.85949177, 0.84724008, 0.82891342],\n",
       "       [0.85237065, 0.88249248, 0.8601324 , 0.88403941, 0.86680588],\n",
       "       [0.85668106, 0.86589053, 0.86248134, 0.8630723 , 0.84521599],\n",
       "       [0.87176726, 0.8870203 , 0.88191333, 0.87783486, 0.86041721],\n",
       "       [0.88254305, 0.89003888, 0.88298101, 0.86949083, 0.85182511],\n",
       "       [0.875     , 0.86955587, 0.85821051, 0.86521178, 0.84741896],\n",
       "       [0.85775864, 0.85877534, 0.83600253, 0.84552848, 0.82715127],\n",
       "       [0.86745685, 0.88055195, 0.86120008, 0.88403941, 0.86680588],\n",
       "       [0.87780172, 0.88033639, 0.87828313, 0.88446729, 0.86724607],\n",
       "       [0.88900862, 0.88551106, 0.84838778, 0.85237489, 0.83420073],\n",
       "       [0.83512929, 0.83872361, 0.83365367, 0.83975181, 0.82120263],\n",
       "       [0.83189656, 0.82988361, 0.82532568, 0.81108261, 0.79168158],\n",
       "       [0.81896551, 0.82341526, 0.82703399, 0.82199401, 0.80649534],\n",
       "       [0.85129307, 0.85015098, 0.84240872, 0.8292683 , 0.81401255],\n",
       "       [0.83448273, 0.84282023, 0.84561178, 0.84124952, 0.82639405],\n",
       "       [0.84913791, 0.84497632, 0.83557547, 0.83889605, 0.82396218],\n",
       "       [0.8297414 , 0.8236309 , 0.80247706, 0.79482243, 0.77841557]])"
      ]
     },
     "execution_count": 56,
     "metadata": {},
     "output_type": "execute_result"
    },
    {
     "data": {
      "text/plain": [
       "0.7812499709321126"
      ]
     },
     "execution_count": 56,
     "metadata": {},
     "output_type": "execute_result"
    }
   ],
   "source": [
    "trainX[1]\n",
    "trainY[1]"
   ]
  },
  {
   "cell_type": "markdown",
   "id": "48abc5aa-58ee-4505-8ceb-659be8634341",
   "metadata": {},
   "source": [
    "如果查看 trainX[1] 值，会发现到它与 trainX[0] 中的数据相同（第一行除外），因为我们将看到前 30 行来预测第 31 行，在第一次预测之后它会自动移动 到第 2 行并取下一个 30 值来预测下一个目标值。"
   ]
  },
  {
   "cell_type": "markdown",
   "id": "8fac0cdf-8aea-4ce5-a3bc-b32f6b8dfa8a",
   "metadata": {},
   "source": [
    "让我们用一种简单的格式来解释这一切——\n",
    "\n",
    "trainX — — →trainY  \n",
    "[0 : 30,0:5] → [30,0]  \n",
    "[1:31, 0:5] → [31,0]  \n",
    "[2:32,0:5] →[32,0]  "
   ]
  },
  {
   "cell_type": "code",
   "execution_count": 57,
   "id": "184bfdb6",
   "metadata": {},
   "outputs": [
    {
     "data": {
      "text/plain": [
       "(1011, 30, 5)"
      ]
     },
     "execution_count": 57,
     "metadata": {},
     "output_type": "execute_result"
    },
    {
     "data": {
      "text/plain": [
       "(1011,)"
      ]
     },
     "execution_count": 57,
     "metadata": {},
     "output_type": "execute_result"
    }
   ],
   "source": [
    "testX,testY=createXY(df_for_testing_scaled,30)\n",
    "testX.shape\n",
    "testY.shape"
   ]
  },
  {
   "cell_type": "markdown",
   "id": "a339cff7-755e-4f2a-a4dd-e322c8c0761e",
   "metadata": {},
   "source": [
    "## 训练模型\n",
    "* 使用 girdsearchCV 进行一些超参数调整以找到基础模型。"
   ]
  },
  {
   "cell_type": "markdown",
   "id": "87d08934-b552-47c4-9a9c-94d064325af7",
   "metadata": {},
   "source": [
    "### GridSearchCV\n",
    "* GridSearchCV 是 scikit-learn 中用于超参数优化的强大工具，它通过网格搜索和交叉验证来寻找模型的最佳参数组合。\n",
    "* 核心功能\n",
    "    * 网格搜索：\n",
    "        * 自动遍历用户定义的所有参数组合\n",
    "        * 穷举式搜索给定的参数空间\n",
    "    * 交叉验证：\n",
    "        * 对每种参数组合进行K折交叉验证\n",
    "        * 评估参数组合的泛化性能\n",
    "* 主要参数\n",
    "```python\n",
    "GridSearchCV(\n",
    "    estimator,          # 要调参的模型/估计器\n",
    "    param_grid,         # 参数网格(字典或字典列表)\n",
    "    scoring=None,       # 评估指标\n",
    "    n_jobs=None,       # 并行作业数(-1使用所有CPU)\n",
    "    refit=True,        # 是否用最佳参数重新拟合\n",
    "    cv=None,           # 交叉验证策略\n",
    "    verbose=0,         # 详细程度\n",
    "    pre_dispatch='2*n_jobs',\n",
    "    error_score=np.nan,\n",
    "    return_train_score=False\n",
    ")\n",
    "```\n",
    "* 工作原理\n",
    "    * 根据 param_grid 生成所有可能的参数组合\n",
    "    * 对每种组合：\n",
    "        * 使用交叉验证训练模型\n",
    "        * 计算验证集上的平均得分\n",
    "    * 选择得分最高的参数组合作为最佳参数\n",
    "    * (如果 refit=True) 用最佳参数在整个训练集上重新训练模型\n",
    "* 输出结果分析\n",
    "    * 最佳模型信息：\n",
    "        * best_estimator_: 最佳参数对应的模型\n",
    "        * best_params_: 最佳参数组合\n",
    "        * best_score_: 最佳模型的平均交叉验证得分\n",
    "    * 完整搜索记录：\n",
    "        * cv_results_: 包含所有参数组合的详细测试结果\n",
    "        * 可转换为DataFrame进行更方便的分析\n",
    "    * 优点\n",
    "        * 自动化：自动完成繁琐的参数搜索过程\n",
    "        * 可靠性：通过交叉验证评估参数性能\n",
    "        * 灵活性：支持自定义评分函数和交叉验证策略\n",
    "        * 可重复性：记录所有尝试的参数组合和结果\n",
    "    * 注意事项\n",
    "        * 参数网格过大会导致计算成本高\n",
    "        * 对于连续参数，可能需要先大范围粗搜，再小范围精搜\n",
    "        * 可以使用 RandomizedSearchCV 替代，当参数空间很大时更高效\n",
    "* GridSearchCV 是机器学习工作流中参数调优的重要工具，能显著提升模型性能。\n",
    "* [sklearn中的GridSearchCV方法详解](https://www.cnblogs.com/dalege/p/14175192.html)"
   ]
  },
  {
   "cell_type": "code",
   "execution_count": 59,
   "id": "d165e52b",
   "metadata": {},
   "outputs": [],
   "source": [
    "from tensorflow.keras.wrappers.scikit_learn import KerasRegressor\n",
    "from sklearn.model_selection import GridSearchCV"
   ]
  },
  {
   "cell_type": "code",
   "execution_count": 60,
   "id": "42ffe2bf",
   "metadata": {},
   "outputs": [],
   "source": [
    "def build_model(optimizer):\n",
    "    grid_model = Sequential()\n",
    "    grid_model.add(LSTM(50,return_sequences=True,input_shape=(30,5)))\n",
    "    grid_model.add(LSTM(50))\n",
    "    grid_model.add(Dropout(0.2))\n",
    "    grid_model.add(Dense(1))\n",
    "\n",
    "    grid_model.compile(loss = 'mse',optimizer = optimizer)\n",
    "    return grid_model\n",
    "\n",
    "grid_model = KerasRegressor(build_fn=build_model,verbose=1)\n",
    "\n",
    "parameters = {'batch_size' : [16,20],\n",
    "              'epochs' : [8,10],\n",
    "              'optimizer' : ['adam','Adadelta'] }\n",
    "\n",
    "grid_search  = GridSearchCV(estimator = grid_model,\n",
    "                            param_grid = parameters,\n",
    "                            cv = 2)"
   ]
  },
  {
   "cell_type": "markdown",
   "id": "06d68e37-b4c4-408a-a237-b68dd5cecab1",
   "metadata": {},
   "source": [
    "如果你想为你的模型做更多的超参数调整，也可以添加更多的层。但是如果数据集非常大建议增加 LSTM 模型中的时期和单位。\n",
    "\n",
    "在第一个 LSTM 层中看到输入形状为 (30,5)。它来自 trainX 形状。(trainX.shape[1],trainX.shape[2]) → (30,5)\n",
    "\n",
    "现在让我们将模型拟合到 trainX 和 trainY 数据中。"
   ]
  },
  {
   "cell_type": "code",
   "execution_count": 61,
   "id": "1fc54625",
   "metadata": {},
   "outputs": [
    {
     "name": "stdout",
     "output_type": "stream",
     "text": [
      "Epoch 1/8\n",
      "130/130 [==============================] - 6s 49ms/step - loss: 0.0036 - val_loss: 0.0013\n",
      "Epoch 2/8\n",
      "130/130 [==============================] - 5s 36ms/step - loss: 0.0012 - val_loss: 9.0601e-04\n",
      "Epoch 3/8\n",
      "130/130 [==============================] - 5s 37ms/step - loss: 0.0010 - val_loss: 0.0011\n",
      "Epoch 4/8\n",
      "130/130 [==============================] - 5s 37ms/step - loss: 9.0804e-04 - val_loss: 8.0079e-04\n",
      "Epoch 5/8\n",
      "130/130 [==============================] - 5s 38ms/step - loss: 8.5942e-04 - val_loss: 9.9553e-04\n",
      "Epoch 6/8\n",
      "130/130 [==============================] - 5s 38ms/step - loss: 7.6868e-04 - val_loss: 9.4733e-04\n",
      "Epoch 7/8\n",
      "130/130 [==============================] - 5s 37ms/step - loss: 7.0164e-04 - val_loss: 9.0523e-04\n",
      "Epoch 8/8\n",
      "130/130 [==============================] - 5s 37ms/step - loss: 6.6010e-04 - val_loss: 4.5182e-04\n",
      "130/130 [==============================] - 1s 8ms/step - loss: 0.0089\n",
      "Epoch 1/8\n",
      "130/130 [==============================] - 7s 54ms/step - loss: 0.0085 - val_loss: 5.9935e-04\n",
      "Epoch 2/8\n",
      "130/130 [==============================] - 5s 41ms/step - loss: 0.0031 - val_loss: 4.6387e-04\n",
      "Epoch 3/8\n",
      "130/130 [==============================] - 5s 38ms/step - loss: 0.0027 - val_loss: 4.1539e-04\n",
      "Epoch 4/8\n",
      "130/130 [==============================] - 5s 38ms/step - loss: 0.0026 - val_loss: 1.9821e-04\n",
      "Epoch 5/8\n",
      "130/130 [==============================] - 5s 37ms/step - loss: 0.0023 - val_loss: 3.6139e-04\n",
      "Epoch 6/8\n",
      "130/130 [==============================] - 5s 36ms/step - loss: 0.0022 - val_loss: 1.7607e-04\n",
      "Epoch 7/8\n",
      "130/130 [==============================] - 5s 36ms/step - loss: 0.0022 - val_loss: 1.3555e-04\n",
      "Epoch 8/8\n",
      "130/130 [==============================] - 5s 36ms/step - loss: 0.0019 - val_loss: 1.9315e-04\n",
      "130/130 [==============================] - 1s 8ms/step - loss: 4.6882e-04\n",
      "Epoch 1/8\n",
      "130/130 [==============================] - 7s 51ms/step - loss: 0.0940 - val_loss: 0.0092\n",
      "Epoch 2/8\n",
      "130/130 [==============================] - 5s 36ms/step - loss: 0.0844 - val_loss: 0.0079\n",
      "Epoch 3/8\n",
      "130/130 [==============================] - 4s 33ms/step - loss: 0.0760 - val_loss: 0.0066\n",
      "Epoch 4/8\n",
      "130/130 [==============================] - 5s 35ms/step - loss: 0.0668 - val_loss: 0.0053\n",
      "Epoch 5/8\n",
      "130/130 [==============================] - 5s 36ms/step - loss: 0.0598 - val_loss: 0.0042\n",
      "Epoch 6/8\n",
      "130/130 [==============================] - 4s 34ms/step - loss: 0.0500 - val_loss: 0.0032\n",
      "Epoch 7/8\n",
      "130/130 [==============================] - 4s 34ms/step - loss: 0.0426 - val_loss: 0.0024\n",
      "Epoch 8/8\n",
      "130/130 [==============================] - 5s 35ms/step - loss: 0.0351 - val_loss: 0.0018\n",
      "130/130 [==============================] - 1s 8ms/step - loss: 0.1221\n",
      "Epoch 1/8\n",
      "130/130 [==============================] - 6s 48ms/step - loss: 0.3187 - val_loss: 0.0125\n",
      "Epoch 2/8\n",
      "130/130 [==============================] - 5s 40ms/step - loss: 0.2907 - val_loss: 0.0105\n",
      "Epoch 3/8\n",
      "130/130 [==============================] - 5s 37ms/step - loss: 0.2625 - val_loss: 0.0086\n",
      "Epoch 4/8\n",
      "130/130 [==============================] - 5s 36ms/step - loss: 0.2357 - val_loss: 0.0068\n",
      "Epoch 5/8\n",
      "130/130 [==============================] - 5s 35ms/step - loss: 0.2104 - val_loss: 0.0052\n",
      "Epoch 6/8\n",
      "130/130 [==============================] - 4s 33ms/step - loss: 0.1771 - val_loss: 0.0037\n",
      "Epoch 7/8\n",
      "130/130 [==============================] - 4s 33ms/step - loss: 0.1528 - val_loss: 0.0026\n",
      "Epoch 8/8\n",
      "130/130 [==============================] - 4s 33ms/step - loss: 0.1247 - val_loss: 0.0017\n",
      "130/130 [==============================] - 1s 8ms/step - loss: 0.0297\n",
      "Epoch 1/10\n",
      "130/130 [==============================] - 7s 56ms/step - loss: 0.0065 - val_loss: 0.0039\n",
      "Epoch 2/10\n",
      "130/130 [==============================] - 5s 37ms/step - loss: 0.0013 - val_loss: 0.0021\n",
      "Epoch 3/10\n",
      "130/130 [==============================] - 5s 36ms/step - loss: 0.0011 - val_loss: 0.0026\n",
      "Epoch 4/10\n",
      "130/130 [==============================] - 5s 36ms/step - loss: 0.0011 - val_loss: 0.0018\n",
      "Epoch 5/10\n",
      "130/130 [==============================] - 5s 37ms/step - loss: 9.1434e-04 - val_loss: 0.0021\n",
      "Epoch 6/10\n",
      "130/130 [==============================] - 5s 36ms/step - loss: 8.1586e-04 - val_loss: 0.0023\n",
      "Epoch 7/10\n",
      "130/130 [==============================] - 5s 35ms/step - loss: 7.6828e-04 - val_loss: 0.0011\n",
      "Epoch 8/10\n",
      "130/130 [==============================] - 5s 36ms/step - loss: 8.3430e-04 - val_loss: 0.0025\n",
      "Epoch 9/10\n",
      "130/130 [==============================] - 5s 35ms/step - loss: 7.0253e-04 - val_loss: 0.0015\n",
      "Epoch 10/10\n",
      "130/130 [==============================] - 5s 36ms/step - loss: 6.6141e-04 - val_loss: 0.0017\n",
      "130/130 [==============================] - 1s 7ms/step - loss: 0.0075\n",
      "Epoch 1/10\n",
      "130/130 [==============================] - 7s 52ms/step - loss: 0.0142 - val_loss: 4.6565e-04\n",
      "Epoch 2/10\n",
      "130/130 [==============================] - 5s 39ms/step - loss: 0.0029 - val_loss: 3.9623e-04\n",
      "Epoch 3/10\n",
      "130/130 [==============================] - 5s 37ms/step - loss: 0.0027 - val_loss: 3.1237e-04\n",
      "Epoch 4/10\n",
      "130/130 [==============================] - 5s 37ms/step - loss: 0.0026 - val_loss: 1.8539e-04\n",
      "Epoch 5/10\n",
      "130/130 [==============================] - 5s 35ms/step - loss: 0.0026 - val_loss: 1.6375e-04\n",
      "Epoch 6/10\n",
      "130/130 [==============================] - 5s 37ms/step - loss: 0.0024 - val_loss: 1.5019e-04\n",
      "Epoch 7/10\n",
      "130/130 [==============================] - 4s 35ms/step - loss: 0.0021 - val_loss: 1.4495e-04\n",
      "Epoch 8/10\n",
      "130/130 [==============================] - 5s 35ms/step - loss: 0.0020 - val_loss: 1.3515e-04\n",
      "Epoch 9/10\n",
      "130/130 [==============================] - 5s 35ms/step - loss: 0.0020 - val_loss: 1.3896e-04\n",
      "Epoch 10/10\n",
      "130/130 [==============================] - 4s 34ms/step - loss: 0.0018 - val_loss: 1.6730e-04\n",
      "130/130 [==============================] - 1s 7ms/step - loss: 1.3803e-04\n",
      "Epoch 1/10\n",
      "130/130 [==============================] - 7s 52ms/step - loss: 0.0274 - val_loss: 0.0015\n",
      "Epoch 2/10\n",
      "130/130 [==============================] - 5s 37ms/step - loss: 0.0223 - val_loss: 0.0011\n",
      "Epoch 3/10\n",
      "130/130 [==============================] - 5s 36ms/step - loss: 0.0188 - val_loss: 7.6450e-04\n",
      "Epoch 4/10\n",
      "130/130 [==============================] - 5s 35ms/step - loss: 0.0148 - val_loss: 5.9292e-04\n",
      "Epoch 5/10\n",
      "130/130 [==============================] - 4s 34ms/step - loss: 0.0120 - val_loss: 5.6491e-04\n",
      "Epoch 6/10\n",
      "130/130 [==============================] - 4s 34ms/step - loss: 0.0093 - val_loss: 6.6723e-04\n",
      "Epoch 7/10\n",
      "130/130 [==============================] - 5s 35ms/step - loss: 0.0069 - val_loss: 8.7330e-04\n",
      "Epoch 8/10\n",
      "130/130 [==============================] - 4s 34ms/step - loss: 0.0056 - val_loss: 0.0012\n",
      "Epoch 9/10\n",
      "130/130 [==============================] - 4s 33ms/step - loss: 0.0047 - val_loss: 0.0015\n",
      "Epoch 10/10\n",
      "130/130 [==============================] - 4s 32ms/step - loss: 0.0039 - val_loss: 0.0018\n",
      "130/130 [==============================] - 1s 8ms/step - loss: 0.0226\n",
      "Epoch 1/10\n",
      "130/130 [==============================] - 7s 50ms/step - loss: 0.1815 - val_loss: 0.0096\n",
      "Epoch 2/10\n",
      "130/130 [==============================] - 5s 37ms/step - loss: 0.1596 - val_loss: 0.0075\n",
      "Epoch 3/10\n",
      "130/130 [==============================] - 5s 36ms/step - loss: 0.1352 - val_loss: 0.0056\n",
      "Epoch 4/10\n",
      "130/130 [==============================] - 5s 36ms/step - loss: 0.1143 - val_loss: 0.0040\n",
      "Epoch 5/10\n",
      "130/130 [==============================] - 5s 35ms/step - loss: 0.0912 - val_loss: 0.0027\n",
      "Epoch 6/10\n",
      "130/130 [==============================] - 4s 34ms/step - loss: 0.0726 - val_loss: 0.0017\n",
      "Epoch 7/10\n",
      "130/130 [==============================] - 4s 34ms/step - loss: 0.0580 - val_loss: 0.0010\n",
      "Epoch 8/10\n",
      "130/130 [==============================] - 5s 35ms/step - loss: 0.0449 - val_loss: 7.2442e-04\n",
      "Epoch 9/10\n",
      "130/130 [==============================] - 5s 36ms/step - loss: 0.0343 - val_loss: 7.3390e-04\n",
      "Epoch 10/10\n",
      "130/130 [==============================] - 4s 34ms/step - loss: 0.0243 - val_loss: 0.0010\n",
      "130/130 [==============================] - 1s 8ms/step - loss: 0.0031\n",
      "Epoch 1/8\n",
      "104/104 [==============================] - 6s 53ms/step - loss: 0.0039 - val_loss: 0.0011\n",
      "Epoch 2/8\n",
      "104/104 [==============================] - 4s 40ms/step - loss: 0.0011 - val_loss: 0.0015\n",
      "Epoch 3/8\n",
      "104/104 [==============================] - 4s 41ms/step - loss: 0.0010 - val_loss: 0.0011\n",
      "Epoch 4/8\n",
      "104/104 [==============================] - 4s 40ms/step - loss: 8.5237e-04 - val_loss: 9.7897e-04\n",
      "Epoch 5/8\n",
      "104/104 [==============================] - 4s 39ms/step - loss: 8.5551e-04 - val_loss: 8.7465e-04\n",
      "Epoch 6/8\n",
      "104/104 [==============================] - 4s 40ms/step - loss: 7.7916e-04 - val_loss: 0.0012\n",
      "Epoch 7/8\n",
      "104/104 [==============================] - 4s 38ms/step - loss: 7.5600e-04 - val_loss: 9.9559e-04\n",
      "Epoch 8/8\n",
      "104/104 [==============================] - 4s 39ms/step - loss: 8.1150e-04 - val_loss: 8.5240e-04\n",
      "104/104 [==============================] - 1s 8ms/step - loss: 0.0136\n",
      "Epoch 1/8\n",
      "104/104 [==============================] - 6s 60ms/step - loss: 0.0126 - val_loss: 0.0015\n",
      "Epoch 2/8\n",
      "104/104 [==============================] - 4s 38ms/step - loss: 0.0031 - val_loss: 9.3226e-04\n",
      "Epoch 3/8\n",
      "104/104 [==============================] - 4s 37ms/step - loss: 0.0026 - val_loss: 1.9322e-04\n",
      "Epoch 4/8\n",
      "104/104 [==============================] - 4s 36ms/step - loss: 0.0025 - val_loss: 2.0439e-04\n",
      "Epoch 5/8\n",
      "104/104 [==============================] - 4s 35ms/step - loss: 0.0024 - val_loss: 3.4317e-04\n",
      "Epoch 6/8\n",
      "104/104 [==============================] - 4s 36ms/step - loss: 0.0024 - val_loss: 3.2410e-04\n",
      "Epoch 7/8\n",
      "104/104 [==============================] - 4s 35ms/step - loss: 0.0023 - val_loss: 2.8274e-04\n",
      "Epoch 8/8\n",
      "104/104 [==============================] - 4s 36ms/step - loss: 0.0021 - val_loss: 2.9096e-04\n",
      "104/104 [==============================] - 1s 8ms/step - loss: 1.8789e-04\n",
      "Epoch 1/8\n",
      "104/104 [==============================] - 6s 53ms/step - loss: 0.1212 - val_loss: 0.0151\n",
      "Epoch 2/8\n",
      "104/104 [==============================] - 4s 38ms/step - loss: 0.1124 - val_loss: 0.0131\n",
      "Epoch 3/8\n",
      "104/104 [==============================] - 4s 36ms/step - loss: 0.1003 - val_loss: 0.0113\n",
      "Epoch 4/8\n",
      "104/104 [==============================] - 4s 36ms/step - loss: 0.0905 - val_loss: 0.0096\n",
      "Epoch 5/8\n",
      "104/104 [==============================] - 4s 36ms/step - loss: 0.0812 - val_loss: 0.0080\n",
      "Epoch 6/8\n",
      "104/104 [==============================] - 4s 35ms/step - loss: 0.0715 - val_loss: 0.0066\n",
      "Epoch 7/8\n",
      "104/104 [==============================] - 4s 37ms/step - loss: 0.0623 - val_loss: 0.0053\n",
      "Epoch 8/8\n",
      "104/104 [==============================] - 4s 35ms/step - loss: 0.0537 - val_loss: 0.0041\n",
      "104/104 [==============================] - 1s 7ms/step - loss: 0.1303\n",
      "Epoch 1/8\n",
      "104/104 [==============================] - 6s 54ms/step - loss: 0.1396 - val_loss: 0.0048\n",
      "Epoch 2/8\n",
      "104/104 [==============================] - 4s 40ms/step - loss: 0.1265 - val_loss: 0.0038\n",
      "Epoch 3/8\n",
      "104/104 [==============================] - 4s 38ms/step - loss: 0.1096 - val_loss: 0.0030\n",
      "Epoch 4/8\n",
      "104/104 [==============================] - 4s 38ms/step - loss: 0.0969 - val_loss: 0.0023\n",
      "Epoch 5/8\n",
      "104/104 [==============================] - 4s 39ms/step - loss: 0.0825 - val_loss: 0.0016\n",
      "Epoch 6/8\n",
      "104/104 [==============================] - 4s 37ms/step - loss: 0.0709 - val_loss: 0.0012\n",
      "Epoch 7/8\n",
      "104/104 [==============================] - 4s 36ms/step - loss: 0.0593 - val_loss: 7.9644e-04\n",
      "Epoch 8/8\n",
      "104/104 [==============================] - 4s 35ms/step - loss: 0.0494 - val_loss: 5.8013e-04\n",
      "104/104 [==============================] - 1s 8ms/step - loss: 0.0083\n",
      "Epoch 1/10\n",
      "104/104 [==============================] - 5s 51ms/step - loss: 0.0036 - val_loss: 0.0028\n",
      "Epoch 2/10\n",
      "104/104 [==============================] - 4s 40ms/step - loss: 0.0011 - val_loss: 0.0023\n",
      "Epoch 3/10\n",
      "104/104 [==============================] - 4s 39ms/step - loss: 9.7720e-04 - val_loss: 0.0015\n",
      "Epoch 4/10\n",
      "104/104 [==============================] - 4s 40ms/step - loss: 9.9515e-04 - val_loss: 0.0014\n",
      "Epoch 5/10\n",
      "104/104 [==============================] - 4s 38ms/step - loss: 9.2495e-04 - val_loss: 7.0709e-04\n",
      "Epoch 6/10\n",
      "104/104 [==============================] - 4s 37ms/step - loss: 8.0184e-04 - val_loss: 0.0010\n",
      "Epoch 7/10\n",
      "104/104 [==============================] - 4s 43ms/step - loss: 7.8312e-04 - val_loss: 9.5966e-04\n",
      "Epoch 8/10\n",
      "104/104 [==============================] - 4s 38ms/step - loss: 7.9821e-04 - val_loss: 8.2732e-04\n",
      "Epoch 9/10\n",
      "104/104 [==============================] - 4s 38ms/step - loss: 6.6008e-04 - val_loss: 5.0335e-04\n",
      "Epoch 10/10\n",
      "104/104 [==============================] - 4s 39ms/step - loss: 6.7522e-04 - val_loss: 5.9923e-04\n",
      "104/104 [==============================] - 1s 9ms/step - loss: 0.0062\n",
      "Epoch 1/10\n",
      "104/104 [==============================] - 6s 59ms/step - loss: 0.0089 - val_loss: 5.6323e-04\n",
      "Epoch 2/10\n",
      "104/104 [==============================] - 4s 42ms/step - loss: 0.0030 - val_loss: 4.1378e-04\n",
      "Epoch 3/10\n",
      "104/104 [==============================] - 4s 41ms/step - loss: 0.0029 - val_loss: 7.4584e-04\n",
      "Epoch 4/10\n",
      "104/104 [==============================] - 4s 40ms/step - loss: 0.0029 - val_loss: 7.1552e-04\n",
      "Epoch 5/10\n",
      "104/104 [==============================] - 4s 38ms/step - loss: 0.0023 - val_loss: 4.5248e-04\n",
      "Epoch 6/10\n",
      "104/104 [==============================] - 4s 36ms/step - loss: 0.0025 - val_loss: 2.7011e-04\n",
      "Epoch 7/10\n",
      "104/104 [==============================] - 4s 37ms/step - loss: 0.0022 - val_loss: 1.7423e-04\n",
      "Epoch 8/10\n",
      "104/104 [==============================] - 4s 37ms/step - loss: 0.0021 - val_loss: 1.7378e-04\n",
      "Epoch 9/10\n",
      "104/104 [==============================] - 4s 37ms/step - loss: 0.0018 - val_loss: 1.1696e-04\n",
      "Epoch 10/10\n",
      "104/104 [==============================] - 4s 38ms/step - loss: 0.0019 - val_loss: 1.1212e-04\n",
      "104/104 [==============================] - 1s 9ms/step - loss: 1.4757e-04\n",
      "Epoch 1/10\n",
      "104/104 [==============================] - 5s 48ms/step - loss: 0.1241 - val_loss: 0.0161\n",
      "Epoch 2/10\n",
      "104/104 [==============================] - 4s 34ms/step - loss: 0.1151 - val_loss: 0.0143\n",
      "Epoch 3/10\n",
      "104/104 [==============================] - 4s 36ms/step - loss: 0.1045 - val_loss: 0.0125\n",
      "Epoch 4/10\n",
      "104/104 [==============================] - 4s 38ms/step - loss: 0.0945 - val_loss: 0.0107\n",
      "Epoch 5/10\n",
      "104/104 [==============================] - 4s 39ms/step - loss: 0.0835 - val_loss: 0.0090\n",
      "Epoch 6/10\n",
      "104/104 [==============================] - 4s 35ms/step - loss: 0.0740 - val_loss: 0.0074\n",
      "Epoch 7/10\n",
      "104/104 [==============================] - 4s 36ms/step - loss: 0.0641 - val_loss: 0.0060\n",
      "Epoch 8/10\n",
      "104/104 [==============================] - 4s 36ms/step - loss: 0.0547 - val_loss: 0.0047\n",
      "Epoch 9/10\n",
      "104/104 [==============================] - 4s 35ms/step - loss: 0.0472 - val_loss: 0.0036\n",
      "Epoch 10/10\n",
      "104/104 [==============================] - 4s 35ms/step - loss: 0.0399 - val_loss: 0.0026\n",
      "104/104 [==============================] - 1s 9ms/step - loss: 0.1107\n",
      "Epoch 1/10\n",
      "104/104 [==============================] - 6s 54ms/step - loss: 0.3344 - val_loss: 0.0168\n",
      "Epoch 2/10\n",
      "104/104 [==============================] - 4s 40ms/step - loss: 0.3071 - val_loss: 0.0145\n",
      "Epoch 3/10\n",
      "104/104 [==============================] - 4s 40ms/step - loss: 0.2819 - val_loss: 0.0123\n",
      "Epoch 4/10\n",
      "104/104 [==============================] - 4s 39ms/step - loss: 0.2576 - val_loss: 0.0102\n",
      "Epoch 5/10\n",
      "104/104 [==============================] - 4s 40ms/step - loss: 0.2314 - val_loss: 0.0083\n",
      "Epoch 6/10\n",
      "104/104 [==============================] - 4s 40ms/step - loss: 0.2071 - val_loss: 0.0065\n",
      "Epoch 7/10\n",
      "104/104 [==============================] - 4s 39ms/step - loss: 0.1818 - val_loss: 0.0050\n",
      "Epoch 8/10\n",
      "104/104 [==============================] - 4s 39ms/step - loss: 0.1585 - val_loss: 0.0036\n",
      "Epoch 9/10\n",
      "104/104 [==============================] - 4s 39ms/step - loss: 0.1352 - val_loss: 0.0026\n",
      "Epoch 10/10\n",
      "104/104 [==============================] - 4s 39ms/step - loss: 0.1159 - val_loss: 0.0018\n",
      "104/104 [==============================] - 1s 9ms/step - loss: 0.0287\n",
      "Epoch 1/10\n",
      "207/207 [==============================] - 10s 47ms/step - loss: 0.0078 - val_loss: 1.7512e-04\n",
      "Epoch 2/10\n",
      "207/207 [==============================] - 8s 38ms/step - loss: 0.0021 - val_loss: 2.4985e-04\n",
      "Epoch 3/10\n",
      "207/207 [==============================] - 8s 37ms/step - loss: 0.0018 - val_loss: 1.4491e-04\n",
      "Epoch 4/10\n",
      "207/207 [==============================] - 7s 36ms/step - loss: 0.0016 - val_loss: 1.4965e-04\n",
      "Epoch 5/10\n",
      "207/207 [==============================] - 7s 36ms/step - loss: 0.0014 - val_loss: 1.5778e-04\n",
      "Epoch 6/10\n",
      "207/207 [==============================] - 7s 36ms/step - loss: 0.0013 - val_loss: 1.8984e-04\n",
      "Epoch 7/10\n",
      "207/207 [==============================] - 7s 36ms/step - loss: 0.0012 - val_loss: 1.2000e-04\n",
      "Epoch 8/10\n",
      "207/207 [==============================] - 7s 35ms/step - loss: 0.0011 - val_loss: 1.4246e-04\n",
      "Epoch 9/10\n",
      "207/207 [==============================] - 7s 36ms/step - loss: 9.6784e-04 - val_loss: 1.0352e-04\n",
      "Epoch 10/10\n",
      "207/207 [==============================] - 7s 36ms/step - loss: 9.4916e-04 - val_loss: 1.0256e-04\n"
     ]
    }
   ],
   "source": [
    "grid_search = grid_search.fit(trainX,trainY, validation_data=(testX,testY))"
   ]
  },
  {
   "cell_type": "markdown",
   "id": "9f42146c-8400-47ef-9759-a207400d6c0f",
   "metadata": {},
   "source": [
    "### 检查模型的最佳参数"
   ]
  },
  {
   "cell_type": "code",
   "execution_count": 68,
   "id": "a9e26e10",
   "metadata": {},
   "outputs": [
    {
     "data": {
      "text/plain": [
       "{'batch_size': 20, 'epochs': 10, 'optimizer': 'adam'}"
      ]
     },
     "execution_count": 68,
     "metadata": {},
     "output_type": "execute_result"
    }
   ],
   "source": [
    "grid_search.best_params_"
   ]
  },
  {
   "cell_type": "markdown",
   "id": "9c40d262-b082-47c9-a586-1e9879c292c6",
   "metadata": {},
   "source": [
    "* 将最佳模型保存在 my_model 变量中。"
   ]
  },
  {
   "cell_type": "code",
   "execution_count": 69,
   "id": "d6851ffc",
   "metadata": {},
   "outputs": [],
   "source": [
    "my_model=grid_search.best_estimator_.model"
   ]
  },
  {
   "cell_type": "code",
   "execution_count": 70,
   "id": "9f0b2e50",
   "metadata": {},
   "outputs": [
    {
     "data": {
      "text/plain": [
       "<tensorflow.python.keras.engine.sequential.Sequential at 0x243676baa30>"
      ]
     },
     "execution_count": 70,
     "metadata": {},
     "output_type": "execute_result"
    }
   ],
   "source": [
    "my_model"
   ]
  },
  {
   "cell_type": "markdown",
   "id": "54f3c0b1-cf21-4412-8396-be83ffafbf29",
   "metadata": {},
   "source": [
    "* 其他查询"
   ]
  },
  {
   "cell_type": "code",
   "execution_count": 62,
   "id": "e0dbced0-eceb-4047-8a4d-8bcab4fde18a",
   "metadata": {},
   "outputs": [
    {
     "name": "stdout",
     "output_type": "stream",
     "text": [
      "最佳参数: {'batch_size': 20, 'epochs': 10, 'optimizer': 'adam'}\n",
      "最佳得分: -0.003174197052430827\n"
     ]
    }
   ],
   "source": [
    "print(\"最佳参数:\", grid_search.best_params_)\n",
    "print(\"最佳得分:\", grid_search.best_score_)"
   ]
  },
  {
   "cell_type": "markdown",
   "id": "e9db4013-4225-4bd4-81b0-65ffd07680b4",
   "metadata": {},
   "source": [
    "* 完整的交叉验证结果\n",
    "* cv_results_ 包含所有参数组合的详细测试结果，典型的 cv_results_ DataFrame 包含以下列：\n",
    "    * mean_fit_time: 平均拟合时间\n",
    "    * mean_score_time: 平均评分时间\n",
    "    * mean_test_score: 平均测试得分\n",
    "    * param_[参数名]: 各种参数的取值\n",
    "    * params: 完整的参数组合\n",
    "    * rank_test_score: 按测试得分排序的排名\n",
    "    * split0_test_score, split1_test_score, ...: 每个交叉验证折的得分"
   ]
  },
  {
   "cell_type": "code",
   "execution_count": 63,
   "id": "4895b614-4baa-419e-8ba2-ebffd7bafa4a",
   "metadata": {},
   "outputs": [
    {
     "data": {
      "text/html": [
       "<div>\n",
       "<style scoped>\n",
       "    .dataframe tbody tr th:only-of-type {\n",
       "        vertical-align: middle;\n",
       "    }\n",
       "\n",
       "    .dataframe tbody tr th {\n",
       "        vertical-align: top;\n",
       "    }\n",
       "\n",
       "    .dataframe thead th {\n",
       "        text-align: right;\n",
       "    }\n",
       "</style>\n",
       "<table border=\"1\" class=\"dataframe\">\n",
       "  <thead>\n",
       "    <tr style=\"text-align: right;\">\n",
       "      <th></th>\n",
       "      <th>mean_fit_time</th>\n",
       "      <th>std_fit_time</th>\n",
       "      <th>mean_score_time</th>\n",
       "      <th>std_score_time</th>\n",
       "      <th>param_batch_size</th>\n",
       "      <th>param_epochs</th>\n",
       "      <th>param_optimizer</th>\n",
       "      <th>params</th>\n",
       "      <th>split0_test_score</th>\n",
       "      <th>split1_test_score</th>\n",
       "      <th>mean_test_score</th>\n",
       "      <th>std_test_score</th>\n",
       "      <th>rank_test_score</th>\n",
       "    </tr>\n",
       "  </thead>\n",
       "  <tbody>\n",
       "    <tr>\n",
       "      <th>0</th>\n",
       "      <td>46.414048</td>\n",
       "      <td>0.351675</td>\n",
       "      <td>1.109864</td>\n",
       "      <td>0.009797</td>\n",
       "      <td>16</td>\n",
       "      <td>8</td>\n",
       "      <td>adam</td>\n",
       "      <td>{'batch_size': 16, 'epochs': 8, 'optimizer': '...</td>\n",
       "      <td>-0.008890</td>\n",
       "      <td>-0.000469</td>\n",
       "      <td>-0.004679</td>\n",
       "      <td>0.004210</td>\n",
       "      <td>3</td>\n",
       "    </tr>\n",
       "    <tr>\n",
       "      <th>1</th>\n",
       "      <td>43.543633</td>\n",
       "      <td>0.053244</td>\n",
       "      <td>1.117882</td>\n",
       "      <td>0.019736</td>\n",
       "      <td>16</td>\n",
       "      <td>8</td>\n",
       "      <td>Adadelta</td>\n",
       "      <td>{'batch_size': 16, 'epochs': 8, 'optimizer': '...</td>\n",
       "      <td>-0.122149</td>\n",
       "      <td>-0.029667</td>\n",
       "      <td>-0.075908</td>\n",
       "      <td>0.046241</td>\n",
       "      <td>8</td>\n",
       "    </tr>\n",
       "    <tr>\n",
       "      <th>2</th>\n",
       "      <td>54.451011</td>\n",
       "      <td>0.261672</td>\n",
       "      <td>1.030178</td>\n",
       "      <td>0.018657</td>\n",
       "      <td>16</td>\n",
       "      <td>10</td>\n",
       "      <td>adam</td>\n",
       "      <td>{'batch_size': 16, 'epochs': 10, 'optimizer': ...</td>\n",
       "      <td>-0.007537</td>\n",
       "      <td>-0.000138</td>\n",
       "      <td>-0.003837</td>\n",
       "      <td>0.003699</td>\n",
       "      <td>2</td>\n",
       "    </tr>\n",
       "    <tr>\n",
       "      <th>3</th>\n",
       "      <td>52.616302</td>\n",
       "      <td>0.536564</td>\n",
       "      <td>1.084641</td>\n",
       "      <td>0.008760</td>\n",
       "      <td>16</td>\n",
       "      <td>10</td>\n",
       "      <td>Adadelta</td>\n",
       "      <td>{'batch_size': 16, 'epochs': 10, 'optimizer': ...</td>\n",
       "      <td>-0.022645</td>\n",
       "      <td>-0.003101</td>\n",
       "      <td>-0.012873</td>\n",
       "      <td>0.009772</td>\n",
       "      <td>5</td>\n",
       "    </tr>\n",
       "    <tr>\n",
       "      <th>4</th>\n",
       "      <td>38.676844</td>\n",
       "      <td>0.791599</td>\n",
       "      <td>0.922409</td>\n",
       "      <td>0.014502</td>\n",
       "      <td>20</td>\n",
       "      <td>8</td>\n",
       "      <td>adam</td>\n",
       "      <td>{'batch_size': 20, 'epochs': 8, 'optimizer': '...</td>\n",
       "      <td>-0.013624</td>\n",
       "      <td>-0.000188</td>\n",
       "      <td>-0.006906</td>\n",
       "      <td>0.006718</td>\n",
       "      <td>4</td>\n",
       "    </tr>\n",
       "    <tr>\n",
       "      <th>5</th>\n",
       "      <td>37.839067</td>\n",
       "      <td>0.422257</td>\n",
       "      <td>0.889523</td>\n",
       "      <td>0.045836</td>\n",
       "      <td>20</td>\n",
       "      <td>8</td>\n",
       "      <td>Adadelta</td>\n",
       "      <td>{'batch_size': 20, 'epochs': 8, 'optimizer': '...</td>\n",
       "      <td>-0.130294</td>\n",
       "      <td>-0.008277</td>\n",
       "      <td>-0.069285</td>\n",
       "      <td>0.061008</td>\n",
       "      <td>6</td>\n",
       "    </tr>\n",
       "    <tr>\n",
       "      <th>6</th>\n",
       "      <td>47.657228</td>\n",
       "      <td>0.018644</td>\n",
       "      <td>1.027748</td>\n",
       "      <td>0.023700</td>\n",
       "      <td>20</td>\n",
       "      <td>10</td>\n",
       "      <td>adam</td>\n",
       "      <td>{'batch_size': 20, 'epochs': 10, 'optimizer': ...</td>\n",
       "      <td>-0.006201</td>\n",
       "      <td>-0.000148</td>\n",
       "      <td>-0.003174</td>\n",
       "      <td>0.003027</td>\n",
       "      <td>1</td>\n",
       "    </tr>\n",
       "    <tr>\n",
       "      <th>7</th>\n",
       "      <td>46.334166</td>\n",
       "      <td>2.149322</td>\n",
       "      <td>0.980408</td>\n",
       "      <td>0.005555</td>\n",
       "      <td>20</td>\n",
       "      <td>10</td>\n",
       "      <td>Adadelta</td>\n",
       "      <td>{'batch_size': 20, 'epochs': 10, 'optimizer': ...</td>\n",
       "      <td>-0.110695</td>\n",
       "      <td>-0.028698</td>\n",
       "      <td>-0.069696</td>\n",
       "      <td>0.040999</td>\n",
       "      <td>7</td>\n",
       "    </tr>\n",
       "  </tbody>\n",
       "</table>\n",
       "</div>"
      ],
      "text/plain": [
       "   mean_fit_time  std_fit_time  mean_score_time  std_score_time  \\\n",
       "0      46.414048      0.351675         1.109864        0.009797   \n",
       "1      43.543633      0.053244         1.117882        0.019736   \n",
       "2      54.451011      0.261672         1.030178        0.018657   \n",
       "3      52.616302      0.536564         1.084641        0.008760   \n",
       "4      38.676844      0.791599         0.922409        0.014502   \n",
       "5      37.839067      0.422257         0.889523        0.045836   \n",
       "6      47.657228      0.018644         1.027748        0.023700   \n",
       "7      46.334166      2.149322         0.980408        0.005555   \n",
       "\n",
       "  param_batch_size param_epochs param_optimizer  \\\n",
       "0               16            8            adam   \n",
       "1               16            8        Adadelta   \n",
       "2               16           10            adam   \n",
       "3               16           10        Adadelta   \n",
       "4               20            8            adam   \n",
       "5               20            8        Adadelta   \n",
       "6               20           10            adam   \n",
       "7               20           10        Adadelta   \n",
       "\n",
       "                                              params  split0_test_score  \\\n",
       "0  {'batch_size': 16, 'epochs': 8, 'optimizer': '...          -0.008890   \n",
       "1  {'batch_size': 16, 'epochs': 8, 'optimizer': '...          -0.122149   \n",
       "2  {'batch_size': 16, 'epochs': 10, 'optimizer': ...          -0.007537   \n",
       "3  {'batch_size': 16, 'epochs': 10, 'optimizer': ...          -0.022645   \n",
       "4  {'batch_size': 20, 'epochs': 8, 'optimizer': '...          -0.013624   \n",
       "5  {'batch_size': 20, 'epochs': 8, 'optimizer': '...          -0.130294   \n",
       "6  {'batch_size': 20, 'epochs': 10, 'optimizer': ...          -0.006201   \n",
       "7  {'batch_size': 20, 'epochs': 10, 'optimizer': ...          -0.110695   \n",
       "\n",
       "   split1_test_score  mean_test_score  std_test_score  rank_test_score  \n",
       "0          -0.000469        -0.004679        0.004210                3  \n",
       "1          -0.029667        -0.075908        0.046241                8  \n",
       "2          -0.000138        -0.003837        0.003699                2  \n",
       "3          -0.003101        -0.012873        0.009772                5  \n",
       "4          -0.000188        -0.006906        0.006718                4  \n",
       "5          -0.008277        -0.069285        0.061008                6  \n",
       "6          -0.000148        -0.003174        0.003027                1  \n",
       "7          -0.028698        -0.069696        0.040999                7  "
      ]
     },
     "execution_count": 63,
     "metadata": {},
     "output_type": "execute_result"
    }
   ],
   "source": [
    "results = pd.DataFrame(grid_search.cv_results_)\n",
    "results"
   ]
  },
  {
   "cell_type": "markdown",
   "id": "3d6d926b-5595-4d30-acdd-4259096bd0cd",
   "metadata": {},
   "source": [
    "* 可视化结果"
   ]
  },
  {
   "cell_type": "code",
   "execution_count": 66,
   "id": "27b70aa5-284f-447e-bdda-2eae5ad4c4cc",
   "metadata": {},
   "outputs": [
    {
     "data": {
      "text/plain": [
       "<Figure size 1000x600 with 0 Axes>"
      ]
     },
     "execution_count": 66,
     "metadata": {},
     "output_type": "execute_result"
    },
    {
     "data": {
      "text/plain": [
       "[<matplotlib.lines.Line2D at 0x2437575fe50>]"
      ]
     },
     "execution_count": 66,
     "metadata": {},
     "output_type": "execute_result"
    },
    {
     "data": {
      "text/plain": [
       "Text(0.5, 0, 'C value')"
      ]
     },
     "execution_count": 66,
     "metadata": {},
     "output_type": "execute_result"
    },
    {
     "data": {
      "text/plain": [
       "Text(0, 0.5, 'Mean Test Score')"
      ]
     },
     "execution_count": 66,
     "metadata": {},
     "output_type": "execute_result"
    },
    {
     "data": {
      "image/png": "[encoded data removed]",
      "text/plain": [
       "<Figure size 1000x600 with 1 Axes>"
      ]
     },
     "metadata": {},
     "output_type": "display_data"
    }
   ],
   "source": [
    "import matplotlib.pyplot as plt\n",
    "\n",
    "results = pd.DataFrame(grid_search.cv_results_)\n",
    "plt.figure(figsize=(10, 6))\n",
    "plt.plot(results['rank_test_score'], results['mean_test_score'], 'o-')\n",
    "plt.xlabel('C value')\n",
    "plt.ylabel('Mean Test Score')\n",
    "plt.xscale('log')  # 如果C是对数分布的\n",
    "plt.show()"
   ]
  },
  {
   "cell_type": "markdown",
   "id": "508543d5-54f0-4349-9b74-4b12376a353a",
   "metadata": {},
   "source": [
    "### 用测试数据集测试模型"
   ]
  },
  {
   "cell_type": "code",
   "execution_count": 71,
   "id": "eeb97d64",
   "metadata": {},
   "outputs": [],
   "source": [
    "prediction=my_model.predict(testX)"
   ]
  },
  {
   "cell_type": "code",
   "execution_count": 76,
   "id": "8699c0d3",
   "metadata": {},
   "outputs": [
    {
     "name": "stdout",
     "output_type": "stream",
     "text": [
      "prediction\n",
      " [[0.3667599 ]\n",
      " [0.3702871 ]\n",
      " [0.3733918 ]\n",
      " ...\n",
      " [0.13179763]\n",
      " [0.13430063]\n",
      " [0.13725263]]\n",
      "\n",
      "Prediction Shape- (1011, 1)\n",
      "testY\n",
      " [0.39159482 0.3965517  0.39331896 ... 0.14744613 0.1495194  0.15150862]\n",
      "\n",
      "testYShape- (1011,)\n"
     ]
    }
   ],
   "source": [
    "print(\"prediction\\n\", prediction)\n",
    "print(\"\\nPrediction Shape-\",prediction.shape)\n",
    "print(\"testY\\n\", testY)\n",
    "print(\"\\ntestYShape-\",testY.shape)"
   ]
  },
  {
   "cell_type": "markdown",
   "id": "8d6e5c6d-34d7-4418-b907-76a7ec8e6005",
   "metadata": {},
   "source": [
    "testY 和 prediction 的长度是一样的。现在可以将 testY 与预测进行比较。\n",
    "\n",
    "但是我们一开始就对数据进行了缩放，所以首先我们必须做一些逆缩放过程。\n",
    "因为在缩放数据时，我们每行有 5 列，现在我们只有 1 列是目标列。\n",
    "\n",
    "所以我们必须改变形状来使用 inverse_transform"
   ]
  },
  {
   "cell_type": "code",
   "execution_count": 78,
   "id": "44862c61",
   "metadata": {},
   "outputs": [],
   "source": [
    "prediction_copies_array = np.repeat(prediction,5, axis=-1)"
   ]
  },
  {
   "cell_type": "markdown",
   "id": "d4e4dfb1-9202-4e87-883e-5e1b9a2776fc",
   "metadata": {},
   "source": [
    "5 列值是相似的，它只是将单个预测列复制了 4 次。所以现在我们有 5 列相同的值 。"
   ]
  },
  {
   "cell_type": "code",
   "execution_count": 79,
   "id": "1dbd500f",
   "metadata": {},
   "outputs": [
    {
     "data": {
      "text/plain": [
       "(1011, 5)"
      ]
     },
     "execution_count": 79,
     "metadata": {},
     "output_type": "execute_result"
    }
   ],
   "source": [
    "prediction_copies_array.shape"
   ]
  },
  {
   "cell_type": "code",
   "execution_count": 80,
   "id": "3b00bd6e",
   "metadata": {},
   "outputs": [
    {
     "data": {
      "text/plain": [
       "array([[0.3667599 , 0.3667599 , 0.3667599 , 0.3667599 , 0.3667599 ],\n",
       "       [0.3702871 , 0.3702871 , 0.3702871 , 0.3702871 , 0.3702871 ],\n",
       "       [0.3733918 , 0.3733918 , 0.3733918 , 0.3733918 , 0.3733918 ],\n",
       "       ...,\n",
       "       [0.13179763, 0.13179763, 0.13179763, 0.13179763, 0.13179763],\n",
       "       [0.13430063, 0.13430063, 0.13430063, 0.13430063, 0.13430063],\n",
       "       [0.13725263, 0.13725263, 0.13725263, 0.13725263, 0.13725263]],\n",
       "      dtype=float32)"
      ]
     },
     "execution_count": 80,
     "metadata": {},
     "output_type": "execute_result"
    }
   ],
   "source": [
    "prediction_copies_array"
   ]
  },
  {
   "cell_type": "code",
   "execution_count": 81,
   "id": "84f2780a",
   "metadata": {},
   "outputs": [],
   "source": [
    "pred=scaler.inverse_transform(np.reshape(prediction_copies_array,(len(prediction),5)))[:,0]"
   ]
  },
  {
   "cell_type": "markdown",
   "id": "6daee24c-a9f7-48e3-b91f-ab382a2d2f0d",
   "metadata": {},
   "source": [
    "但是逆变换后的第一列是我们需要的，所以我们在最后使用了 → [:,0]。\n",
    "\n",
    "现在将这个 pred 值与 testY 进行比较，但是 testY 也是按比例缩放的，也需要使用与上述相同的代码进行逆变换。"
   ]
  },
  {
   "cell_type": "code",
   "execution_count": 82,
   "id": "2c86afce",
   "metadata": {},
   "outputs": [
    {
     "data": {
      "text/plain": [
       "array([182.82816 , 184.08708 , 185.19524 , ...,  98.96468 ,  99.85807 ,\n",
       "       100.911705], dtype=float32)"
      ]
     },
     "execution_count": 82,
     "metadata": {},
     "output_type": "execute_result"
    }
   ],
   "source": [
    "pred"
   ]
  },
  {
   "cell_type": "code",
   "execution_count": 83,
   "id": "4ec05dff",
   "metadata": {},
   "outputs": [
    {
     "data": {
      "text/plain": [
       "(5055,)"
      ]
     },
     "execution_count": 83,
     "metadata": {},
     "output_type": "execute_result"
    }
   ],
   "source": [
    "original_copies_array = np.repeat(testY,5, axis=-1)\n",
    "\n",
    "original_copies_array.shape\n",
    "\n",
    "original=scaler.inverse_transform(np.reshape(original_copies_array,(len(testY),5)))[:,0]"
   ]
  },
  {
   "cell_type": "code",
   "execution_count": 84,
   "id": "cecfd7bf",
   "metadata": {},
   "outputs": [
    {
     "name": "stdout",
     "output_type": "stream",
     "text": [
      "Pred Values--  [182.82816  184.08708  185.19524  ...  98.96468   99.85807  100.911705]\n",
      "\n",
      "Original Values--  [191.692307 193.461533 192.307693 ... 104.550003 105.290001 106.      ]\n"
     ]
    }
   ],
   "source": [
    "print(\"Pred Values-- \" ,pred)\n",
    "print(\"\\nOriginal Values-- \",original)"
   ]
  },
  {
   "cell_type": "markdown",
   "id": "6e4dadec-49d2-4137-b817-e362a80ea881",
   "metadata": {},
   "source": [
    "### 最后绘制一个图来对比我们的 pred 和原始数据。"
   ]
  },
  {
   "cell_type": "code",
   "execution_count": 85,
   "id": "07e37414",
   "metadata": {},
   "outputs": [],
   "source": [
    "import matplotlib.pyplot as plt"
   ]
  },
  {
   "cell_type": "code",
   "execution_count": 86,
   "id": "bfa9b94b",
   "metadata": {},
   "outputs": [
    {
     "data": {
      "text/plain": [
       "[<matplotlib.lines.Line2D at 0x24375c5e850>]"
      ]
     },
     "execution_count": 86,
     "metadata": {},
     "output_type": "execute_result"
    },
    {
     "data": {
      "text/plain": [
       "[<matplotlib.lines.Line2D at 0x24375c5ebe0>]"
      ]
     },
     "execution_count": 86,
     "metadata": {},
     "output_type": "execute_result"
    },
    {
     "data": {
      "text/plain": [
       "Text(0.5, 1.0, ' Stock Price Prediction')"
      ]
     },
     "execution_count": 86,
     "metadata": {},
     "output_type": "execute_result"
    },
    {
     "data": {
      "text/plain": [
       "Text(0.5, 0, 'Time')"
      ]
     },
     "execution_count": 86,
     "metadata": {},
     "output_type": "execute_result"
    },
    {
     "data": {
      "text/plain": [
       "Text(0, 0.5, ' Stock Price')"
      ]
     },
     "execution_count": 86,
     "metadata": {},
     "output_type": "execute_result"
    },
    {
     "data": {
      "text/plain": [
       "<matplotlib.legend.Legend at 0x24375c5e880>"
      ]
     },
     "execution_count": 86,
     "metadata": {},
     "output_type": "execute_result"
    },
    {
     "data": {
      "image/png": "[encoded data removed]",
      "text/plain": [
       "<Figure size 640x480 with 1 Axes>"
      ]
     },
     "metadata": {},
     "output_type": "display_data"
    }
   ],
   "source": [
    "plt.plot(original, color = 'red', label = 'Real  Stock Price')\n",
    "plt.plot(pred, color = 'blue', label = 'Predicted  Stock Price')\n",
    "plt.title(' Stock Price Prediction')\n",
    "plt.xlabel('Time')\n",
    "plt.ylabel(' Stock Price')\n",
    "plt.legend()\n",
    "plt.show()"
   ]
  },
  {
   "cell_type": "markdown",
   "id": "30d55799-cf43-42a4-bbbd-37380a8cb89a",
   "metadata": {},
   "source": [
    "## 预测未来值\n",
    "* 从主 df 数据集中获取我们在开始时加载的最后 30 个值[为什么是 30？因为这是我们想要的过去值的数量，来预测第 31 个值]"
   ]
  },
  {
   "cell_type": "code",
   "execution_count": 88,
   "id": "3a095e22",
   "metadata": {},
   "outputs": [
    {
     "data": {
      "text/html": [
       "<div>\n",
       "<style scoped>\n",
       "    .dataframe tbody tr th:only-of-type {\n",
       "        vertical-align: middle;\n",
       "    }\n",
       "\n",
       "    .dataframe tbody tr th {\n",
       "        vertical-align: top;\n",
       "    }\n",
       "\n",
       "    .dataframe thead th {\n",
       "        text-align: right;\n",
       "    }\n",
       "</style>\n",
       "<table border=\"1\" class=\"dataframe\">\n",
       "  <thead>\n",
       "    <tr style=\"text-align: right;\">\n",
       "      <th></th>\n",
       "      <th>Open</th>\n",
       "      <th>High</th>\n",
       "      <th>Low</th>\n",
       "      <th>Close</th>\n",
       "      <th>Adj Close</th>\n",
       "    </tr>\n",
       "    <tr>\n",
       "      <th>Date</th>\n",
       "      <th></th>\n",
       "      <th></th>\n",
       "      <th></th>\n",
       "      <th></th>\n",
       "      <th></th>\n",
       "    </tr>\n",
       "  </thead>\n",
       "  <tbody>\n",
       "    <tr>\n",
       "      <th>2021-09-23</th>\n",
       "      <td>99.529999</td>\n",
       "      <td>104.080002</td>\n",
       "      <td>99.519997</td>\n",
       "      <td>102.959999</td>\n",
       "      <td>102.789993</td>\n",
       "    </tr>\n",
       "    <tr>\n",
       "      <th>2021-09-24</th>\n",
       "      <td>102.660004</td>\n",
       "      <td>104.199997</td>\n",
       "      <td>102.599998</td>\n",
       "      <td>103.800003</td>\n",
       "      <td>103.709198</td>\n",
       "    </tr>\n",
       "    <tr>\n",
       "      <th>2021-09-27</th>\n",
       "      <td>104.550003</td>\n",
       "      <td>106.330002</td>\n",
       "      <td>104.389999</td>\n",
       "      <td>105.349998</td>\n",
       "      <td>105.257835</td>\n",
       "    </tr>\n",
       "    <tr>\n",
       "      <th>2021-09-28</th>\n",
       "      <td>105.290001</td>\n",
       "      <td>106.750000</td>\n",
       "      <td>104.730003</td>\n",
       "      <td>105.730003</td>\n",
       "      <td>105.637512</td>\n",
       "    </tr>\n",
       "    <tr>\n",
       "      <th>2021-09-29</th>\n",
       "      <td>106.000000</td>\n",
       "      <td>107.000000</td>\n",
       "      <td>105.309998</td>\n",
       "      <td>106.279999</td>\n",
       "      <td>106.187027</td>\n",
       "    </tr>\n",
       "  </tbody>\n",
       "</table>\n",
       "</div>"
      ],
      "text/plain": [
       "                  Open        High         Low       Close   Adj Close\n",
       "Date                                                                  \n",
       "2021-09-23   99.529999  104.080002   99.519997  102.959999  102.789993\n",
       "2021-09-24  102.660004  104.199997  102.599998  103.800003  103.709198\n",
       "2021-09-27  104.550003  106.330002  104.389999  105.349998  105.257835\n",
       "2021-09-28  105.290001  106.750000  104.730003  105.730003  105.637512\n",
       "2021-09-29  106.000000  107.000000  105.309998  106.279999  106.187027"
      ]
     },
     "execution_count": 88,
     "metadata": {},
     "output_type": "execute_result"
    }
   ],
   "source": [
    "df_30_days_past=df.iloc[-30:,:]\n",
    "df_30_days_past.tail()"
   ]
  },
  {
   "cell_type": "markdown",
   "id": "58228c1c-3e5c-45ed-ac25-f7d14cd6f493",
   "metadata": {},
   "source": [
    "可以看到有包括目标列（“Open”）在内的所有列。现在让我们预测未来的 30 个值。\n",
    "\n",
    "在多元时间序列预测中，需要通过使用不同的特征来预测单列，所以在进行预测时我们需要使用特征值（目标列除外）来进行即将到来的预测。\n",
    "\n",
    "这里我们需要“High”、“Low”、“Close”、“Adj Close”列的即将到来的 30 个值来对“Open”列进行预测。"
   ]
  },
  {
   "cell_type": "code",
   "execution_count": 89,
   "id": "92497be0",
   "metadata": {},
   "outputs": [
    {
     "data": {
      "text/plain": [
       "(30, 4)"
      ]
     },
     "execution_count": 89,
     "metadata": {},
     "output_type": "execute_result"
    }
   ],
   "source": [
    "df_30_days_future=pd.read_csv(\"test.csv\",parse_dates=[\"Date\"],index_col=[0])\n",
    "df_30_days_future.shape"
   ]
  },
  {
   "cell_type": "code",
   "execution_count": 90,
   "id": "7004371c",
   "metadata": {},
   "outputs": [
    {
     "data": {
      "text/html": [
       "<div>\n",
       "<style scoped>\n",
       "    .dataframe tbody tr th:only-of-type {\n",
       "        vertical-align: middle;\n",
       "    }\n",
       "\n",
       "    .dataframe tbody tr th {\n",
       "        vertical-align: top;\n",
       "    }\n",
       "\n",
       "    .dataframe thead th {\n",
       "        text-align: right;\n",
       "    }\n",
       "</style>\n",
       "<table border=\"1\" class=\"dataframe\">\n",
       "  <thead>\n",
       "    <tr style=\"text-align: right;\">\n",
       "      <th></th>\n",
       "      <th>High</th>\n",
       "      <th>Low</th>\n",
       "      <th>Close</th>\n",
       "      <th>Adj Close</th>\n",
       "    </tr>\n",
       "    <tr>\n",
       "      <th>Date</th>\n",
       "      <th></th>\n",
       "      <th></th>\n",
       "      <th></th>\n",
       "      <th></th>\n",
       "    </tr>\n",
       "  </thead>\n",
       "  <tbody>\n",
       "    <tr>\n",
       "      <th>2021-09-30</th>\n",
       "      <td>107.089996</td>\n",
       "      <td>102.949997</td>\n",
       "      <td>103.029999</td>\n",
       "      <td>102.939865</td>\n",
       "    </tr>\n",
       "    <tr>\n",
       "      <th>2021-10-01</th>\n",
       "      <td>106.389999</td>\n",
       "      <td>103.669998</td>\n",
       "      <td>105.820000</td>\n",
       "      <td>105.727425</td>\n",
       "    </tr>\n",
       "    <tr>\n",
       "      <th>2021-10-04</th>\n",
       "      <td>107.080002</td>\n",
       "      <td>104.599998</td>\n",
       "      <td>104.900002</td>\n",
       "      <td>104.808235</td>\n",
       "    </tr>\n",
       "    <tr>\n",
       "      <th>2021-10-05</th>\n",
       "      <td>106.000000</td>\n",
       "      <td>103.750000</td>\n",
       "      <td>104.900002</td>\n",
       "      <td>104.808235</td>\n",
       "    </tr>\n",
       "    <tr>\n",
       "      <th>2021-10-06</th>\n",
       "      <td>104.419998</td>\n",
       "      <td>102.059998</td>\n",
       "      <td>104.330002</td>\n",
       "      <td>104.238731</td>\n",
       "    </tr>\n",
       "    <tr>\n",
       "      <th>2021-10-07</th>\n",
       "      <td>106.529999</td>\n",
       "      <td>104.330002</td>\n",
       "      <td>105.510002</td>\n",
       "      <td>105.417702</td>\n",
       "    </tr>\n",
       "    <tr>\n",
       "      <th>2021-10-08</th>\n",
       "      <td>106.220001</td>\n",
       "      <td>104.660004</td>\n",
       "      <td>104.720001</td>\n",
       "      <td>104.628387</td>\n",
       "    </tr>\n",
       "    <tr>\n",
       "      <th>2021-10-11</th>\n",
       "      <td>105.760002</td>\n",
       "      <td>103.970001</td>\n",
       "      <td>104.080002</td>\n",
       "      <td>103.988953</td>\n",
       "    </tr>\n",
       "    <tr>\n",
       "      <th>2021-10-12</th>\n",
       "      <td>104.040001</td>\n",
       "      <td>101.559998</td>\n",
       "      <td>102.720001</td>\n",
       "      <td>102.630142</td>\n",
       "    </tr>\n",
       "    <tr>\n",
       "      <th>2021-10-13</th>\n",
       "      <td>103.199997</td>\n",
       "      <td>101.180000</td>\n",
       "      <td>102.360001</td>\n",
       "      <td>102.270454</td>\n",
       "    </tr>\n",
       "    <tr>\n",
       "      <th>2021-10-14</th>\n",
       "      <td>103.650002</td>\n",
       "      <td>102.370003</td>\n",
       "      <td>102.739998</td>\n",
       "      <td>102.650116</td>\n",
       "    </tr>\n",
       "    <tr>\n",
       "      <th>2021-10-15</th>\n",
       "      <td>105.900002</td>\n",
       "      <td>103.190002</td>\n",
       "      <td>104.410004</td>\n",
       "      <td>104.318665</td>\n",
       "    </tr>\n",
       "    <tr>\n",
       "      <th>2021-10-18</th>\n",
       "      <td>104.570000</td>\n",
       "      <td>103.040001</td>\n",
       "      <td>104.120003</td>\n",
       "      <td>104.028915</td>\n",
       "    </tr>\n",
       "    <tr>\n",
       "      <th>2021-10-19</th>\n",
       "      <td>104.970001</td>\n",
       "      <td>103.580002</td>\n",
       "      <td>104.730003</td>\n",
       "      <td>104.638382</td>\n",
       "    </tr>\n",
       "    <tr>\n",
       "      <th>2021-10-20</th>\n",
       "      <td>106.019997</td>\n",
       "      <td>103.870003</td>\n",
       "      <td>106.000000</td>\n",
       "      <td>105.907272</td>\n",
       "    </tr>\n",
       "    <tr>\n",
       "      <th>2021-10-21</th>\n",
       "      <td>106.389999</td>\n",
       "      <td>103.010002</td>\n",
       "      <td>103.150002</td>\n",
       "      <td>103.059761</td>\n",
       "    </tr>\n",
       "    <tr>\n",
       "      <th>2021-10-22</th>\n",
       "      <td>104.510002</td>\n",
       "      <td>102.550003</td>\n",
       "      <td>104.050003</td>\n",
       "      <td>103.958977</td>\n",
       "    </tr>\n",
       "    <tr>\n",
       "      <th>2021-10-25</th>\n",
       "      <td>105.989998</td>\n",
       "      <td>103.330002</td>\n",
       "      <td>105.300003</td>\n",
       "      <td>105.207886</td>\n",
       "    </tr>\n",
       "    <tr>\n",
       "      <th>2021-10-26</th>\n",
       "      <td>110.970001</td>\n",
       "      <td>105.220001</td>\n",
       "      <td>107.440002</td>\n",
       "      <td>107.346008</td>\n",
       "    </tr>\n",
       "    <tr>\n",
       "      <th>2021-10-27</th>\n",
       "      <td>108.279999</td>\n",
       "      <td>103.690002</td>\n",
       "      <td>103.849998</td>\n",
       "      <td>103.759148</td>\n",
       "    </tr>\n",
       "    <tr>\n",
       "      <th>2021-10-28</th>\n",
       "      <td>105.379997</td>\n",
       "      <td>103.099998</td>\n",
       "      <td>105.260002</td>\n",
       "      <td>105.167915</td>\n",
       "    </tr>\n",
       "    <tr>\n",
       "      <th>2021-10-29</th>\n",
       "      <td>105.239998</td>\n",
       "      <td>104.120003</td>\n",
       "      <td>104.870003</td>\n",
       "      <td>104.778259</td>\n",
       "    </tr>\n",
       "    <tr>\n",
       "      <th>2021-11-01</th>\n",
       "      <td>106.769997</td>\n",
       "      <td>105.279999</td>\n",
       "      <td>106.230003</td>\n",
       "      <td>106.137070</td>\n",
       "    </tr>\n",
       "    <tr>\n",
       "      <th>2021-11-02</th>\n",
       "      <td>107.139999</td>\n",
       "      <td>105.300003</td>\n",
       "      <td>106.690002</td>\n",
       "      <td>106.596664</td>\n",
       "    </tr>\n",
       "    <tr>\n",
       "      <th>2021-11-03</th>\n",
       "      <td>106.339996</td>\n",
       "      <td>104.820000</td>\n",
       "      <td>105.970001</td>\n",
       "      <td>105.877296</td>\n",
       "    </tr>\n",
       "    <tr>\n",
       "      <th>2021-11-04</th>\n",
       "      <td>106.400002</td>\n",
       "      <td>104.290001</td>\n",
       "      <td>105.209999</td>\n",
       "      <td>105.117958</td>\n",
       "    </tr>\n",
       "    <tr>\n",
       "      <th>2021-11-05</th>\n",
       "      <td>109.650002</td>\n",
       "      <td>106.849998</td>\n",
       "      <td>108.739998</td>\n",
       "      <td>108.644867</td>\n",
       "    </tr>\n",
       "    <tr>\n",
       "      <th>2021-11-08</th>\n",
       "      <td>110.309998</td>\n",
       "      <td>108.320000</td>\n",
       "      <td>108.419998</td>\n",
       "      <td>108.325150</td>\n",
       "    </tr>\n",
       "    <tr>\n",
       "      <th>2021-11-09</th>\n",
       "      <td>116.169998</td>\n",
       "      <td>110.480003</td>\n",
       "      <td>111.290001</td>\n",
       "      <td>111.192642</td>\n",
       "    </tr>\n",
       "    <tr>\n",
       "      <th>2021-11-10</th>\n",
       "      <td>112.680000</td>\n",
       "      <td>108.110001</td>\n",
       "      <td>108.959999</td>\n",
       "      <td>108.864677</td>\n",
       "    </tr>\n",
       "  </tbody>\n",
       "</table>\n",
       "</div>"
      ],
      "text/plain": [
       "                  High         Low       Close   Adj Close\n",
       "Date                                                      \n",
       "2021-09-30  107.089996  102.949997  103.029999  102.939865\n",
       "2021-10-01  106.389999  103.669998  105.820000  105.727425\n",
       "2021-10-04  107.080002  104.599998  104.900002  104.808235\n",
       "2021-10-05  106.000000  103.750000  104.900002  104.808235\n",
       "2021-10-06  104.419998  102.059998  104.330002  104.238731\n",
       "2021-10-07  106.529999  104.330002  105.510002  105.417702\n",
       "2021-10-08  106.220001  104.660004  104.720001  104.628387\n",
       "2021-10-11  105.760002  103.970001  104.080002  103.988953\n",
       "2021-10-12  104.040001  101.559998  102.720001  102.630142\n",
       "2021-10-13  103.199997  101.180000  102.360001  102.270454\n",
       "2021-10-14  103.650002  102.370003  102.739998  102.650116\n",
       "2021-10-15  105.900002  103.190002  104.410004  104.318665\n",
       "2021-10-18  104.570000  103.040001  104.120003  104.028915\n",
       "2021-10-19  104.970001  103.580002  104.730003  104.638382\n",
       "2021-10-20  106.019997  103.870003  106.000000  105.907272\n",
       "2021-10-21  106.389999  103.010002  103.150002  103.059761\n",
       "2021-10-22  104.510002  102.550003  104.050003  103.958977\n",
       "2021-10-25  105.989998  103.330002  105.300003  105.207886\n",
       "2021-10-26  110.970001  105.220001  107.440002  107.346008\n",
       "2021-10-27  108.279999  103.690002  103.849998  103.759148\n",
       "2021-10-28  105.379997  103.099998  105.260002  105.167915\n",
       "2021-10-29  105.239998  104.120003  104.870003  104.778259\n",
       "2021-11-01  106.769997  105.279999  106.230003  106.137070\n",
       "2021-11-02  107.139999  105.300003  106.690002  106.596664\n",
       "2021-11-03  106.339996  104.820000  105.970001  105.877296\n",
       "2021-11-04  106.400002  104.290001  105.209999  105.117958\n",
       "2021-11-05  109.650002  106.849998  108.739998  108.644867\n",
       "2021-11-08  110.309998  108.320000  108.419998  108.325150\n",
       "2021-11-09  116.169998  110.480003  111.290001  111.192642\n",
       "2021-11-10  112.680000  108.110001  108.959999  108.864677"
      ]
     },
     "execution_count": 90,
     "metadata": {},
     "output_type": "execute_result"
    }
   ],
   "source": [
    "df_30_days_future"
   ]
  },
  {
   "cell_type": "markdown",
   "id": "bb1272f2-05af-4dc3-92c8-b87df8c2588c",
   "metadata": {},
   "source": [
    "剔除“Open”列后，使用模型进行预测之前还需要做以下的操作：\n",
    "\n",
    "缩放数据，因为删除了‘Open’列，在缩放它之前，添加一个所有值都为“0”的Open列。\n",
    "\n",
    "缩放后，将未来数据中的“Open”列值替换为“nan”\n",
    "\n",
    "现在附加 30 天旧值和 30 天新值（其中最后 30 个“打开”值是 nan）"
   ]
  },
  {
   "cell_type": "code",
   "execution_count": 91,
   "id": "20277ef8",
   "metadata": {},
   "outputs": [],
   "source": [
    "df_30_days_future[\"Open\"]=0\n",
    "df_30_days_future=df_30_days_future[[\"Open\",\"High\",\"Low\",\"Close\",\"Adj Close\"]]\n",
    "old_scaled_array=scaler.transform(df_30_days_past)\n",
    "new_scaled_array=scaler.transform(df_30_days_future)\n",
    "new_scaled_df=pd.DataFrame(new_scaled_array)\n",
    "new_scaled_df.iloc[:,0]=np.nan\n",
    "full_df=pd.concat([pd.DataFrame(old_scaled_array),new_scaled_df]).reset_index().drop([\"index\"],axis=1)"
   ]
  },
  {
   "cell_type": "code",
   "execution_count": 92,
   "id": "0dcb1ee5",
   "metadata": {},
   "outputs": [
    {
     "data": {
      "text/plain": [
       "(60, 5)"
      ]
     },
     "execution_count": 92,
     "metadata": {},
     "output_type": "execute_result"
    },
    {
     "data": {
      "text/html": [
       "<div>\n",
       "<style scoped>\n",
       "    .dataframe tbody tr th:only-of-type {\n",
       "        vertical-align: middle;\n",
       "    }\n",
       "\n",
       "    .dataframe tbody tr th {\n",
       "        vertical-align: top;\n",
       "    }\n",
       "\n",
       "    .dataframe thead th {\n",
       "        text-align: right;\n",
       "    }\n",
       "</style>\n",
       "<table border=\"1\" class=\"dataframe\">\n",
       "  <thead>\n",
       "    <tr style=\"text-align: right;\">\n",
       "      <th></th>\n",
       "      <th>0</th>\n",
       "      <th>1</th>\n",
       "      <th>2</th>\n",
       "      <th>3</th>\n",
       "      <th>4</th>\n",
       "    </tr>\n",
       "  </thead>\n",
       "  <tbody>\n",
       "    <tr>\n",
       "      <th>55</th>\n",
       "      <td>NaN</td>\n",
       "      <td>0.143640</td>\n",
       "      <td>0.164162</td>\n",
       "      <td>0.150135</td>\n",
       "      <td>0.349458</td>\n",
       "    </tr>\n",
       "    <tr>\n",
       "      <th>56</th>\n",
       "      <td>NaN</td>\n",
       "      <td>0.152749</td>\n",
       "      <td>0.171268</td>\n",
       "      <td>0.159953</td>\n",
       "      <td>0.367565</td>\n",
       "    </tr>\n",
       "    <tr>\n",
       "      <th>57</th>\n",
       "      <td>NaN</td>\n",
       "      <td>0.154599</td>\n",
       "      <td>0.175349</td>\n",
       "      <td>0.159063</td>\n",
       "      <td>0.365924</td>\n",
       "    </tr>\n",
       "    <tr>\n",
       "      <th>58</th>\n",
       "      <td>NaN</td>\n",
       "      <td>0.171024</td>\n",
       "      <td>0.181345</td>\n",
       "      <td>0.167045</td>\n",
       "      <td>0.380645</td>\n",
       "    </tr>\n",
       "    <tr>\n",
       "      <th>59</th>\n",
       "      <td>NaN</td>\n",
       "      <td>0.161242</td>\n",
       "      <td>0.174766</td>\n",
       "      <td>0.160565</td>\n",
       "      <td>0.368694</td>\n",
       "    </tr>\n",
       "  </tbody>\n",
       "</table>\n",
       "</div>"
      ],
      "text/plain": [
       "     0         1         2         3         4\n",
       "55 NaN  0.143640  0.164162  0.150135  0.349458\n",
       "56 NaN  0.152749  0.171268  0.159953  0.367565\n",
       "57 NaN  0.154599  0.175349  0.159063  0.365924\n",
       "58 NaN  0.171024  0.181345  0.167045  0.380645\n",
       "59 NaN  0.161242  0.174766  0.160565  0.368694"
      ]
     },
     "execution_count": 92,
     "metadata": {},
     "output_type": "execute_result"
    }
   ],
   "source": [
    "full_df.shape\n",
    "full_df.tail()"
   ]
  },
  {
   "cell_type": "markdown",
   "id": "7f1c3b26-1258-44b8-a579-840881dfbe16",
   "metadata": {},
   "source": [
    "要进行预测必须再次使用 for 循环，我们在拆分 trainX 和 trainY 中的数据时所做的。但是这次我们只有 X，没有 Y 值"
   ]
  },
  {
   "cell_type": "code",
   "execution_count": 93,
   "id": "48bf070f",
   "metadata": {},
   "outputs": [],
   "source": [
    "full_df_scaled_array=full_df.values"
   ]
  },
  {
   "cell_type": "code",
   "execution_count": 94,
   "id": "91fdcf82",
   "metadata": {},
   "outputs": [
    {
     "data": {
      "text/plain": [
       "(60, 5)"
      ]
     },
     "execution_count": 94,
     "metadata": {},
     "output_type": "execute_result"
    }
   ],
   "source": [
    "full_df_scaled_array.shape"
   ]
  },
  {
   "cell_type": "code",
   "execution_count": 95,
   "id": "547622aa",
   "metadata": {},
   "outputs": [],
   "source": [
    "all_data=[]\n",
    "time_step=30\n",
    "for i in range(time_step,len(full_df_scaled_array)):\n",
    "    data_x=[]\n",
    "    data_x.append(full_df_scaled_array[i-time_step:i,0:full_df_scaled_array.shape[1]])\n",
    "    data_x=np.array(data_x)\n",
    "    prediction=my_model.predict(data_x)\n",
    "    all_data.append(prediction)\n",
    "    full_df.iloc[i,0]=prediction"
   ]
  },
  {
   "cell_type": "code",
   "execution_count": 96,
   "id": "05929d50",
   "metadata": {},
   "outputs": [
    {
     "data": {
      "text/plain": [
       "[array([[0.14023124]], dtype=float32),\n",
       " array([[0.1419575]], dtype=float32),\n",
       " array([[0.14336602]], dtype=float32),\n",
       " array([[0.14437674]], dtype=float32),\n",
       " array([[0.14490917]], dtype=float32),\n",
       " array([[0.14476171]], dtype=float32),\n",
       " array([[0.14482723]], dtype=float32),\n",
       " array([[0.14481631]], dtype=float32),\n",
       " array([[0.14455676]], dtype=float32),\n",
       " array([[0.1436392]], dtype=float32),\n",
       " array([[0.14232466]], dtype=float32),\n",
       " array([[0.14114404]], dtype=float32),\n",
       " array([[0.14074759]], dtype=float32),\n",
       " array([[0.14059792]], dtype=float32),\n",
       " array([[0.1407732]], dtype=float32),\n",
       " array([[0.14144544]], dtype=float32),\n",
       " array([[0.14173436]], dtype=float32),\n",
       " array([[0.14177807]], dtype=float32),\n",
       " array([[0.14211234]], dtype=float32),\n",
       " array([[0.14355302]], dtype=float32),\n",
       " array([[0.14435941]], dtype=float32),\n",
       " array([[0.14472127]], dtype=float32),\n",
       " array([[0.14476873]], dtype=float32),\n",
       " array([[0.14511383]], dtype=float32),\n",
       " array([[0.14567792]], dtype=float32),\n",
       " array([[0.14602959]], dtype=float32),\n",
       " array([[0.14605506]], dtype=float32),\n",
       " array([[0.14704606]], dtype=float32),\n",
       " array([[0.14847994]], dtype=float32),\n",
       " array([[0.15122235]], dtype=float32)]"
      ]
     },
     "execution_count": 96,
     "metadata": {},
     "output_type": "execute_result"
    }
   ],
   "source": [
    "all_data"
   ]
  },
  {
   "cell_type": "markdown",
   "id": "814ae85c-fd75-454d-b851-6cf715c07f86",
   "metadata": {},
   "source": [
    "对于第一个预测，有之前的 30 个值，当 for 循环第一次运行时它会检查前 30 个值并预测第 31 个“Open”数据。\n",
    "\n",
    "当第二个 for 循环将尝试运行时，它将跳过第一行并尝试获取下 30 个值 [1:31] 。这里会报错错误因为Open列最后一行是 “nan”，所以需要每次都用预测替换“nan”。\n",
    "\n",
    "最后还需要对预测进行逆变换→"
   ]
  },
  {
   "cell_type": "code",
   "execution_count": 97,
   "id": "379cf40a",
   "metadata": {},
   "outputs": [],
   "source": [
    "new_array=np.array(all_data)\n",
    "new_array=new_array.reshape(-1,1)\n",
    "prediction_copies_array = np.repeat(new_array,5, axis=-1)\n",
    "y_pred_future_30_days = scaler.inverse_transform(np.reshape(prediction_copies_array,(len(new_array),5)))[:,0]"
   ]
  },
  {
   "cell_type": "code",
   "execution_count": 98,
   "id": "4ab9307c",
   "metadata": {
    "scrolled": true
   },
   "outputs": [
    {
     "data": {
      "text/plain": [
       "array([101.97484 , 102.59098 , 103.09371 , 103.45446 , 103.64451 ,\n",
       "       103.59187 , 103.61526 , 103.61136 , 103.51872 , 103.19122 ,\n",
       "       102.72203 , 102.300644, 102.159134, 102.10572 , 102.16828 ,\n",
       "       102.40822 , 102.511345, 102.52694 , 102.646255, 103.16046 ,\n",
       "       103.44828 , 103.57744 , 103.594376, 103.71755 , 103.91889 ,\n",
       "       104.04441 , 104.0535  , 104.40721 , 104.91899 , 105.89783 ],\n",
       "      dtype=float32)"
      ]
     },
     "execution_count": 98,
     "metadata": {},
     "output_type": "execute_result"
    }
   ],
   "source": [
    "y_pred_future_30_days"
   ]
  },
  {
   "cell_type": "markdown",
   "id": "dcbe5698",
   "metadata": {},
   "source": [
    "# END!!!!"
   ]
  }
 ],
 "metadata": {
  "kernelspec": {
   "display_name": "Python 3 (ipykernel)",
   "language": "python",
   "name": "python3"
  },
  "language_info": {
   "codemirror_mode": {
    "name": "ipython",
    "version": 3
   },
   "file_extension": ".py",
   "mimetype": "text/x-python",
   "name": "python",
   "nbconvert_exporter": "python",
   "pygments_lexer": "ipython3",
   "version": "3.12.7"
  }
 },
 "nbformat": 4,
 "nbformat_minor": 5
}
